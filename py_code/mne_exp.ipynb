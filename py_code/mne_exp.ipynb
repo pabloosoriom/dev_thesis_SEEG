{
 "cells": [
  {
   "cell_type": "code",
   "execution_count": 1,
   "metadata": {},
   "outputs": [
    {
     "name": "stdout",
     "output_type": "stream",
     "text": [
      "Collecting mne\n",
      "  Downloading mne-1.4.2-py3-none-any.whl (7.7 MB)\n",
      "\u001b[2K     \u001b[90m━━━━━━━━━━━━━━━━━━━━━━━━━━━━━━━━━━━━━━━━\u001b[0m \u001b[32m7.7/7.7 MB\u001b[0m \u001b[31m4.6 MB/s\u001b[0m eta \u001b[36m0:00:00\u001b[0m00:01\u001b[0m00:01\u001b[0m\n",
      "\u001b[?25hRequirement already satisfied: decorator in /home/paosoriom/anaconda3/lib/python3.9/site-packages (from mne) (5.1.1)\n",
      "Requirement already satisfied: scipy>=1.6.3 in /home/paosoriom/anaconda3/lib/python3.9/site-packages (from mne) (1.9.1)\n",
      "Requirement already satisfied: jinja2 in /home/paosoriom/anaconda3/lib/python3.9/site-packages (from mne) (2.11.3)\n",
      "Collecting pooch>=1.5\n",
      "  Downloading pooch-1.7.0-py3-none-any.whl (60 kB)\n",
      "\u001b[2K     \u001b[90m━━━━━━━━━━━━━━━━━━━━━━━━━━━━━━━━━━━━━━━\u001b[0m \u001b[32m60.9/60.9 kB\u001b[0m \u001b[31m714.3 kB/s\u001b[0m eta \u001b[36m0:00:00\u001b[0ma \u001b[36m0:00:01\u001b[0m\n",
      "\u001b[?25hRequirement already satisfied: numpy>=1.15.4 in /home/paosoriom/anaconda3/lib/python3.9/site-packages (from mne) (1.24.3)\n",
      "Requirement already satisfied: packaging in /home/paosoriom/anaconda3/lib/python3.9/site-packages (from mne) (21.3)\n",
      "Requirement already satisfied: tqdm in /home/paosoriom/anaconda3/lib/python3.9/site-packages (from mne) (4.64.1)\n",
      "Requirement already satisfied: matplotlib>=3.4.0 in /home/paosoriom/anaconda3/lib/python3.9/site-packages (from mne) (3.5.2)\n",
      "Requirement already satisfied: fonttools>=4.22.0 in /home/paosoriom/anaconda3/lib/python3.9/site-packages (from matplotlib>=3.4.0->mne) (4.25.0)\n",
      "Requirement already satisfied: pillow>=6.2.0 in /home/paosoriom/anaconda3/lib/python3.9/site-packages (from matplotlib>=3.4.0->mne) (9.2.0)\n",
      "Requirement already satisfied: kiwisolver>=1.0.1 in /home/paosoriom/anaconda3/lib/python3.9/site-packages (from matplotlib>=3.4.0->mne) (1.4.2)\n",
      "Requirement already satisfied: pyparsing>=2.2.1 in /home/paosoriom/anaconda3/lib/python3.9/site-packages (from matplotlib>=3.4.0->mne) (3.0.9)\n",
      "Requirement already satisfied: python-dateutil>=2.7 in /home/paosoriom/anaconda3/lib/python3.9/site-packages (from matplotlib>=3.4.0->mne) (2.8.2)\n",
      "Requirement already satisfied: cycler>=0.10 in /home/paosoriom/anaconda3/lib/python3.9/site-packages (from matplotlib>=3.4.0->mne) (0.11.0)\n",
      "Requirement already satisfied: platformdirs>=2.5.0 in /home/paosoriom/anaconda3/lib/python3.9/site-packages (from pooch>=1.5->mne) (2.5.2)\n",
      "Requirement already satisfied: requests>=2.19.0 in /home/paosoriom/anaconda3/lib/python3.9/site-packages (from pooch>=1.5->mne) (2.28.1)\n",
      "Requirement already satisfied: MarkupSafe>=0.23 in /home/paosoriom/anaconda3/lib/python3.9/site-packages (from jinja2->mne) (2.0.1)\n",
      "Requirement already satisfied: six>=1.5 in /home/paosoriom/anaconda3/lib/python3.9/site-packages (from python-dateutil>=2.7->matplotlib>=3.4.0->mne) (1.16.0)\n",
      "Requirement already satisfied: charset-normalizer<3,>=2 in /home/paosoriom/anaconda3/lib/python3.9/site-packages (from requests>=2.19.0->pooch>=1.5->mne) (2.0.4)\n",
      "Requirement already satisfied: certifi>=2017.4.17 in /home/paosoriom/anaconda3/lib/python3.9/site-packages (from requests>=2.19.0->pooch>=1.5->mne) (2022.9.14)\n",
      "Requirement already satisfied: idna<4,>=2.5 in /home/paosoriom/anaconda3/lib/python3.9/site-packages (from requests>=2.19.0->pooch>=1.5->mne) (3.3)\n",
      "Requirement already satisfied: urllib3<1.27,>=1.21.1 in /home/paosoriom/anaconda3/lib/python3.9/site-packages (from requests>=2.19.0->pooch>=1.5->mne) (1.26.11)\n",
      "Installing collected packages: pooch, mne\n",
      "Successfully installed mne-1.4.2 pooch-1.7.0\n"
     ]
    }
   ],
   "source": [
    "!pip install mne\n",
    "#Converting trc to edf\n",
    "!pip install pyedflib"
   ]
  },
  {
   "cell_type": "code",
   "execution_count": 2,
   "metadata": {},
   "outputs": [],
   "source": [
    "#Importing libraries \n",
    "import mne\n",
    "import numpy as np\n",
    "import matplotlib.pyplot as plt\n",
    "import os\n",
    "import pandas as pd\n",
    "import seaborn as sns\n",
    "import matplotlib.pyplot as plt\n",
    "import matplotlib as mpl\n",
    "import matplotlib.patches as mpatches\n",
    "import matplotlib.gridspec as gridspec\n",
    "import matplotlib.ticker as ticker\n",
    "import matplotlib.patches as patches\n",
    "import matplotlib.colors as colors\n",
    "import matplotlib.cm as cmx\n",
    "import matplotlib.colorbar as colorbar\n",
    "import matplotlib.lines as mlines"
   ]
  },
  {
   "cell_type": "code",
   "execution_count": 4,
   "metadata": {},
   "outputs": [
    {
     "name": "stdout",
     "output_type": "stream",
     "text": [
      "Opening raw data file EEG_5779.TRC...\n"
     ]
    },
    {
     "name": "stderr",
     "output_type": "stream",
     "text": [
      "/tmp/ipykernel_18629/4227218487.py:5: RuntimeWarning: This filename (EEG_5779.TRC) does not conform to MNE naming conventions. All raw files should end with raw.fif, raw_sss.fif, raw_tsss.fif, _meg.fif, _eeg.fif, _ieeg.fif, raw.fif.gz, raw_sss.fif.gz, raw_tsss.fif.gz, _meg.fif.gz, _eeg.fif.gz or _ieeg.fif.gz\n",
      "  raw = mne.io.Raw(trc_file)\n"
     ]
    },
    {
     "ename": "ValueError",
     "evalue": "file '/home/paosoriom/Universidad/Master Thesis/py_code/EEG_5779.TRC' does not start with a file id tag",
     "output_type": "error",
     "traceback": [
      "\u001b[0;31m---------------------------------------------------------------------------\u001b[0m",
      "\u001b[0;31mValueError\u001b[0m                                Traceback (most recent call last)",
      "\u001b[0;32m/tmp/ipykernel_18629/4227218487.py\u001b[0m in \u001b[0;36m<module>\u001b[0;34m\u001b[0m\n\u001b[1;32m      3\u001b[0m \u001b[0;34m\u001b[0m\u001b[0m\n\u001b[1;32m      4\u001b[0m \u001b[0;31m# Read the .TRC file\u001b[0m\u001b[0;34m\u001b[0m\u001b[0;34m\u001b[0m\u001b[0m\n\u001b[0;32m----> 5\u001b[0;31m \u001b[0mraw\u001b[0m \u001b[0;34m=\u001b[0m \u001b[0mmne\u001b[0m\u001b[0;34m.\u001b[0m\u001b[0mio\u001b[0m\u001b[0;34m.\u001b[0m\u001b[0mRaw\u001b[0m\u001b[0;34m(\u001b[0m\u001b[0mtrc_file\u001b[0m\u001b[0;34m)\u001b[0m\u001b[0;34m\u001b[0m\u001b[0;34m\u001b[0m\u001b[0m\n\u001b[0m\u001b[1;32m      6\u001b[0m \u001b[0;34m\u001b[0m\u001b[0m\n\u001b[1;32m      7\u001b[0m \u001b[0;31m# Print information about the data\u001b[0m\u001b[0;34m\u001b[0m\u001b[0;34m\u001b[0m\u001b[0m\n",
      "\u001b[0;32m<decorator-gen-271>\u001b[0m in \u001b[0;36m__init__\u001b[0;34m(self, fname, allow_maxshield, preload, on_split_missing, verbose)\u001b[0m\n",
      "\u001b[0;32m~/anaconda3/lib/python3.9/site-packages/mne/io/fiff/raw.py\u001b[0m in \u001b[0;36m__init__\u001b[0;34m(self, fname, allow_maxshield, preload, on_split_missing, verbose)\u001b[0m\n\u001b[1;32m     91\u001b[0m         \u001b[0mnext_fname\u001b[0m \u001b[0;34m=\u001b[0m \u001b[0mfname\u001b[0m\u001b[0;34m\u001b[0m\u001b[0;34m\u001b[0m\u001b[0m\n\u001b[1;32m     92\u001b[0m         \u001b[0;32mwhile\u001b[0m \u001b[0mnext_fname\u001b[0m \u001b[0;32mis\u001b[0m \u001b[0;32mnot\u001b[0m \u001b[0;32mNone\u001b[0m\u001b[0;34m:\u001b[0m\u001b[0;34m\u001b[0m\u001b[0;34m\u001b[0m\u001b[0m\n\u001b[0;32m---> 93\u001b[0;31m             raw, next_fname, buffer_size_sec = self._read_raw_file(\n\u001b[0m\u001b[1;32m     94\u001b[0m                 \u001b[0mnext_fname\u001b[0m\u001b[0;34m,\u001b[0m \u001b[0mallow_maxshield\u001b[0m\u001b[0;34m,\u001b[0m \u001b[0mpreload\u001b[0m\u001b[0;34m,\u001b[0m \u001b[0mdo_check_ext\u001b[0m\u001b[0;34m\u001b[0m\u001b[0;34m\u001b[0m\u001b[0m\n\u001b[1;32m     95\u001b[0m             )\n",
      "\u001b[0;32m<decorator-gen-272>\u001b[0m in \u001b[0;36m_read_raw_file\u001b[0;34m(self, fname, allow_maxshield, preload, do_check_ext, verbose)\u001b[0m\n",
      "\u001b[0;32m~/anaconda3/lib/python3.9/site-packages/mne/io/fiff/raw.py\u001b[0m in \u001b[0;36m_read_raw_file\u001b[0;34m(self, fname, allow_maxshield, preload, do_check_ext, verbose)\u001b[0m\n\u001b[1;32m    183\u001b[0m             \u001b[0mwhole_file\u001b[0m \u001b[0;34m=\u001b[0m \u001b[0;32mTrue\u001b[0m\u001b[0;34m\u001b[0m\u001b[0;34m\u001b[0m\u001b[0m\n\u001b[1;32m    184\u001b[0m         \u001b[0mfname_rep\u001b[0m \u001b[0;34m=\u001b[0m \u001b[0m_get_fname_rep\u001b[0m\u001b[0;34m(\u001b[0m\u001b[0mfname\u001b[0m\u001b[0;34m)\u001b[0m\u001b[0;34m\u001b[0m\u001b[0;34m\u001b[0m\u001b[0m\n\u001b[0;32m--> 185\u001b[0;31m         \u001b[0mff\u001b[0m\u001b[0;34m,\u001b[0m \u001b[0mtree\u001b[0m\u001b[0;34m,\u001b[0m \u001b[0m_\u001b[0m \u001b[0;34m=\u001b[0m \u001b[0mfiff_open\u001b[0m\u001b[0;34m(\u001b[0m\u001b[0mfname\u001b[0m\u001b[0;34m,\u001b[0m \u001b[0mpreload\u001b[0m\u001b[0;34m=\u001b[0m\u001b[0mwhole_file\u001b[0m\u001b[0;34m)\u001b[0m\u001b[0;34m\u001b[0m\u001b[0;34m\u001b[0m\u001b[0m\n\u001b[0m\u001b[1;32m    186\u001b[0m         \u001b[0;32mwith\u001b[0m \u001b[0mff\u001b[0m \u001b[0;32mas\u001b[0m \u001b[0mfid\u001b[0m\u001b[0;34m:\u001b[0m\u001b[0;34m\u001b[0m\u001b[0;34m\u001b[0m\u001b[0m\n\u001b[1;32m    187\u001b[0m             \u001b[0;31m#   Read the measurement info\u001b[0m\u001b[0;34m\u001b[0m\u001b[0;34m\u001b[0m\u001b[0m\n",
      "\u001b[0;32m<decorator-gen-10>\u001b[0m in \u001b[0;36mfiff_open\u001b[0;34m(fname, preload, verbose)\u001b[0m\n",
      "\u001b[0;32m~/anaconda3/lib/python3.9/site-packages/mne/io/open.py\u001b[0m in \u001b[0;36mfiff_open\u001b[0;34m(fname, preload, verbose)\u001b[0m\n\u001b[1;32m    124\u001b[0m     \u001b[0mfid\u001b[0m \u001b[0;34m=\u001b[0m \u001b[0m_fiff_get_fid\u001b[0m\u001b[0;34m(\u001b[0m\u001b[0mfname\u001b[0m\u001b[0;34m)\u001b[0m\u001b[0;34m\u001b[0m\u001b[0;34m\u001b[0m\u001b[0m\n\u001b[1;32m    125\u001b[0m     \u001b[0;32mtry\u001b[0m\u001b[0;34m:\u001b[0m\u001b[0;34m\u001b[0m\u001b[0;34m\u001b[0m\u001b[0m\n\u001b[0;32m--> 126\u001b[0;31m         \u001b[0;32mreturn\u001b[0m \u001b[0m_fiff_open\u001b[0m\u001b[0;34m(\u001b[0m\u001b[0mfname\u001b[0m\u001b[0;34m,\u001b[0m \u001b[0mfid\u001b[0m\u001b[0;34m,\u001b[0m \u001b[0mpreload\u001b[0m\u001b[0;34m)\u001b[0m\u001b[0;34m\u001b[0m\u001b[0;34m\u001b[0m\u001b[0m\n\u001b[0m\u001b[1;32m    127\u001b[0m     \u001b[0;32mexcept\u001b[0m \u001b[0mException\u001b[0m\u001b[0;34m:\u001b[0m\u001b[0;34m\u001b[0m\u001b[0;34m\u001b[0m\u001b[0m\n\u001b[1;32m    128\u001b[0m         \u001b[0mfid\u001b[0m\u001b[0;34m.\u001b[0m\u001b[0mclose\u001b[0m\u001b[0;34m(\u001b[0m\u001b[0;34m)\u001b[0m\u001b[0;34m\u001b[0m\u001b[0;34m\u001b[0m\u001b[0m\n",
      "\u001b[0;32m~/anaconda3/lib/python3.9/site-packages/mne/io/open.py\u001b[0m in \u001b[0;36m_fiff_open\u001b[0;34m(fname, fid, preload)\u001b[0m\n\u001b[1;32m    143\u001b[0m     \u001b[0mprefix\u001b[0m \u001b[0;34m=\u001b[0m \u001b[0;34mf\"file {repr(fname)} does not\"\u001b[0m\u001b[0;34m\u001b[0m\u001b[0;34m\u001b[0m\u001b[0m\n\u001b[1;32m    144\u001b[0m     \u001b[0;32mif\u001b[0m \u001b[0mtag\u001b[0m\u001b[0;34m.\u001b[0m\u001b[0mkind\u001b[0m \u001b[0;34m!=\u001b[0m \u001b[0mFIFF\u001b[0m\u001b[0;34m.\u001b[0m\u001b[0mFIFF_FILE_ID\u001b[0m\u001b[0;34m:\u001b[0m\u001b[0;34m\u001b[0m\u001b[0;34m\u001b[0m\u001b[0m\n\u001b[0;32m--> 145\u001b[0;31m         \u001b[0;32mraise\u001b[0m \u001b[0mValueError\u001b[0m\u001b[0;34m(\u001b[0m\u001b[0;34mf\"{prefix} start with a file id tag\"\u001b[0m\u001b[0;34m)\u001b[0m\u001b[0;34m\u001b[0m\u001b[0;34m\u001b[0m\u001b[0m\n\u001b[0m\u001b[1;32m    146\u001b[0m \u001b[0;34m\u001b[0m\u001b[0m\n\u001b[1;32m    147\u001b[0m     \u001b[0;32mif\u001b[0m \u001b[0mtag\u001b[0m\u001b[0;34m.\u001b[0m\u001b[0mtype\u001b[0m \u001b[0;34m!=\u001b[0m \u001b[0mFIFF\u001b[0m\u001b[0;34m.\u001b[0m\u001b[0mFIFFT_ID_STRUCT\u001b[0m\u001b[0;34m:\u001b[0m\u001b[0;34m\u001b[0m\u001b[0;34m\u001b[0m\u001b[0m\n",
      "\u001b[0;31mValueError\u001b[0m: file '/home/paosoriom/Universidad/Master Thesis/py_code/EEG_5779.TRC' does not start with a file id tag"
     ]
    }
   ],
   "source": [
    "# Path to the .TRC file\n",
    "trc_file = 'EEG_5779.TRC'\n",
    "\n",
    "# Read the .TRC file\n",
    "raw = mne.io.Raw(trc_file)\n",
    "\n",
    "# Print information about the data\n",
    "print(raw.info)\n"
   ]
  },
  {
   "cell_type": "code",
   "execution_count": 6,
   "metadata": {},
   "outputs": [
    {
     "ename": "OSError",
     "evalue": "EEG_5779.TRC: the file is not EDF(+) or BDF(+) compliant (it contains format errors)",
     "output_type": "error",
     "traceback": [
      "\u001b[0;31m---------------------------------------------------------------------------\u001b[0m",
      "\u001b[0;31mOSError\u001b[0m                                   Traceback (most recent call last)",
      "\u001b[0;32m/tmp/ipykernel_18629/4059065479.py\u001b[0m in \u001b[0;36m<module>\u001b[0;34m\u001b[0m\n\u001b[1;32m      8\u001b[0m \u001b[0;34m\u001b[0m\u001b[0m\n\u001b[1;32m      9\u001b[0m \u001b[0;31m# Open the .TRC file\u001b[0m\u001b[0;34m\u001b[0m\u001b[0;34m\u001b[0m\u001b[0m\n\u001b[0;32m---> 10\u001b[0;31m \u001b[0mtrc\u001b[0m \u001b[0;34m=\u001b[0m \u001b[0mpyedflib\u001b[0m\u001b[0;34m.\u001b[0m\u001b[0mEdfReader\u001b[0m\u001b[0;34m(\u001b[0m\u001b[0mtrc_file\u001b[0m\u001b[0;34m)\u001b[0m\u001b[0;34m\u001b[0m\u001b[0;34m\u001b[0m\u001b[0m\n\u001b[0m\u001b[1;32m     11\u001b[0m \u001b[0;34m\u001b[0m\u001b[0m\n\u001b[1;32m     12\u001b[0m \u001b[0;31m# Create an EDF file\u001b[0m\u001b[0;34m\u001b[0m\u001b[0;34m\u001b[0m\u001b[0m\n",
      "\u001b[0;32mpyedflib/_extensions/_pyedflib.pyx\u001b[0m in \u001b[0;36mpyedflib._extensions._pyedflib.CyEdfReader.__init__\u001b[0;34m()\u001b[0m\n",
      "\u001b[0;32mpyedflib/_extensions/_pyedflib.pyx\u001b[0m in \u001b[0;36mpyedflib._extensions._pyedflib.CyEdfReader.open\u001b[0;34m()\u001b[0m\n",
      "\u001b[0;32mpyedflib/_extensions/_pyedflib.pyx\u001b[0m in \u001b[0;36mpyedflib._extensions._pyedflib.CyEdfReader.check_open_ok\u001b[0;34m()\u001b[0m\n",
      "\u001b[0;31mOSError\u001b[0m: EEG_5779.TRC: the file is not EDF(+) or BDF(+) compliant (it contains format errors)"
     ]
    }
   ],
   "source": [
    "import pyedflib\n",
    "\n",
    "# Path to the .TRC file\n",
    "trc_file = 'EEG_5779.TRC'\n",
    "\n",
    "# Path for the output .EDF file\n",
    "edf_file = 'EEG_5779.edf'\n",
    "\n",
    "# Open the .TRC file\n",
    "trc = pyedflib.EdfReader(trc_file)\n",
    "\n",
    "# Create an EDF file\n",
    "edf = pyedflib.EdfWriter(edf_file, trc.getSignalLabels(), file_type=pyedflib.FILETYPE_EDFPLUS)\n",
    "\n",
    "# Write the data from .TRC to .EDF file\n",
    "for i in range(trc.signals_in_file):\n",
    "    signal = trc.readSignal(i)\n",
    "    edf.writeSignal(signal)\n",
    "\n",
    "# Close the files\n",
    "trc.close()\n",
    "edf.close()\n",
    "\n",
    "print(\"Conversion complete.\")\n"
   ]
  },
  {
   "cell_type": "code",
   "execution_count": null,
   "metadata": {},
   "outputs": [],
   "source": []
  }
 ],
 "metadata": {
  "kernelspec": {
   "display_name": "base",
   "language": "python",
   "name": "python3"
  },
  "language_info": {
   "codemirror_mode": {
    "name": "ipython",
    "version": 3
   },
   "file_extension": ".py",
   "mimetype": "text/x-python",
   "name": "python",
   "nbconvert_exporter": "python",
   "pygments_lexer": "ipython3",
   "version": "3.9.13"
  },
  "orig_nbformat": 4
 },
 "nbformat": 4,
 "nbformat_minor": 2
}
