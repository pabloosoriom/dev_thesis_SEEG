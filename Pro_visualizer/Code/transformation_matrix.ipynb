{
 "cells": [
  {
   "cell_type": "code",
   "execution_count": 1,
   "id": "134a430d-1ae0-4f5a-a3ad-999ac5850947",
   "metadata": {},
   "outputs": [],
   "source": [
    "import numpy as np"
   ]
  },
  {
   "cell_type": "code",
   "execution_count": 7,
   "id": "77f1ae27-90f4-4b34-accb-9891423a7f7f",
   "metadata": {},
   "outputs": [
    {
     "data": {
      "text/plain": [
       "array([[ 1.0022,  0.0071, -0.0177,  0.0528],\n",
       "       [-0.0146,  0.999 ,  0.0027, -1.5519],\n",
       "       [ 0.0129,  0.0094,  1.0027, -1.2012]])"
      ]
     },
     "execution_count": 7,
     "metadata": {},
     "output_type": "execute_result"
    }
   ],
   "source": [
    "mni2fsaverage  = np.array([[1.0022,0.0071,-0.0177,0.0528],[-0.0146,0.9990,0.0027,-1.5519],[0.0129,0.0094,1.0027,-1.2012]])\n",
    "mni2fsaverage"
   ]
  },
  {
   "cell_type": "code",
   "execution_count": 8,
   "id": "03b4bab7-9831-4c14-9220-2ba98c89d264",
   "metadata": {},
   "outputs": [],
   "source": [
    "# Save the array\n",
    "np.save('mni2fsvarega.npy', mni2fsaverage)"
   ]
  },
  {
   "cell_type": "code",
   "execution_count": null,
   "id": "de34ea6d-3b59-4c78-a9af-b9ae5d29a06d",
   "metadata": {},
   "outputs": [],
   "source": [
    "#Taken from this\n",
    "https://surfer.nmr.mgh.harvard.edu/fswiki/CoordinateSystems"
   ]
  },
  {
   "cell_type": "code",
   "execution_count": 9,
   "id": "92923f8a-542d-40f2-bedd-2b71bab8bcd6",
   "metadata": {},
   "outputs": [
    {
     "data": {
      "text/plain": [
       "array([  9.3133, -21.5834,  33.8343])"
      ]
     },
     "execution_count": 9,
     "metadata": {},
     "output_type": "execute_result"
    }
   ],
   "source": [
    "mni = np.array([10,-20,35,1])\n",
    "fsavg = mni2fsaverage@mni\n",
    "fsavg\n"
   ]
  }
 ],
 "metadata": {
  "kernelspec": {
   "display_name": "Python 3 (ipykernel)",
   "language": "python",
   "name": "python3"
  },
  "language_info": {
   "codemirror_mode": {
    "name": "ipython",
    "version": 3
   },
   "file_extension": ".py",
   "mimetype": "text/x-python",
   "name": "python",
   "nbconvert_exporter": "python",
   "pygments_lexer": "ipython3",
   "version": "3.12.7"
  }
 },
 "nbformat": 4,
 "nbformat_minor": 5
}
