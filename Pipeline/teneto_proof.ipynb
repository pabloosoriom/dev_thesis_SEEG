{
 "cells": [
  {
   "cell_type": "code",
   "execution_count": 1,
   "metadata": {},
   "outputs": [],
   "source": [
    "import mne\n",
    "import numpy as np\n",
    "import matplotlib.pyplot as plt\n",
    "from sklearn.metrics import pairwise_distances\n",
    "from nltools.data import Brain_Data, Design_Matrix, Adjacency\n",
    "import networkx as nx\n",
    "from scipy import signal\n",
    "from mne_connectivity import spectral_connectivity_epochs\n",
    "import seaborn as sns\n",
    "import pandas as pd\n",
    "import numpy as np\n",
    "import matplotlib.pyplot as plt\n",
    "from PIL import Image\n",
    "import io\n",
    "from itertools import cycle\n",
    "from matplotlib.lines import Line2D\n",
    "from scipy.fft import fft, fftfreq\n",
    "from scipy.stats import pearsonr\n",
    "from scipy.stats import spearmanr\n",
    "from scipy.stats import kendalltau\n",
    "from matplotlib.animation import FuncAnimation, PillowWriter\n",
    "import plotly.graph_objs as go\n",
    "from functools import reduce\n",
    "import teneto\n",
    "\n",
    "\n",
    "from functions.Connectivity import *"
   ]
  },
  {
   "cell_type": "code",
   "execution_count": null,
   "metadata": {},
   "outputs": [],
   "source": [
    "patient='sub-HUP185'\n",
    "raw=mne.io.read_raw_fif(f'/home/pablo/works/dev_thesis_SEEG/outputs_t03/{patient}/ref_0/percentile_0.9/{patient}_filtered.fif', preload=True)\n",
    "\n",
    "#Reading a npy file \n",
    "data_alpha = np.load(f'//home/pablo/works/dev_thesis_SEEG/outputs_t03/{patient}/ref_0/percentile_0.9/{patient}_connectivity_data_alpha_aec_dense.npy')\n",
    "data_beta = np.load(f'/home/pablo/works/dev_thesis_SEEG/outputs_t03/{patient}/ref_0/percentile_0.9/{patient}_connectivity_data_beta_aec_dense.npy')\n",
    "data_hgamma = np.load(f'/home/pablo/works/dev_thesis_SEEG/outputs_t03/{patient}/ref_0/percentile_0.9/{patient}_connectivity_data_high_gamma1_aec_dense.npy')\n",
    "data_lgamma = np.load(f'/home/pablo/works/dev_thesis_SEEG/outputs_t03/{patient}/ref_0/percentile_0.9/{patient}_connectivity_data_low_gamma_aec_dense.npy')\n",
    "data_theta = np.load(f'/home/pablo/works/dev_thesis_SEEG/outputs_t03/{patient}/ref_0/percentile_0.9/{patient}_connectivity_data_theta_aec_dense.npy')\n",
    "\n",
    "data_alpha_norm = np.load(f'/home/pablo/works/dev_thesis_SEEG/outputs_t03/{patient}/ref_0/percentile_0.9/{patient}_connectivity_data_alpha_aec_distance_dense.npy')\n",
    "data_beta_norm = np.load(f'/home/pablo/works/dev_thesis_SEEG/outputs_t03/{patient}/ref_0/percentile_0.9/{patient}_connectivity_data_beta_aec_distance_dense.npy')\n",
    "\n",
    "data_hgamma_norm = np.load(f'/home/pablo/works/dev_thesis_SEEG/outputs_t03/{patient}/ref_0/percentile_0.9/{patient}_connectivity_data_high_gamma1_aec_distance_dense.npy')\n",
    "data_lgamma_norm = np.load(f'/home/pablo/works/dev_thesis_SEEG/outputs_t03/{patient}/ref_0/percentile_0.9/{patient}_connectivity_data_low_gamma_aec_distance_dense.npy')\n",
    "data_theta_norm = np.load(f'/home/pablo/works/dev_thesis_SEEG/outputs_t03/{patient}/ref_0/percentile_0.9/{patient}_connectivity_data_theta_aec_distance_dense.npy')\n",
    "# Reading the .tsv file \n",
    "\n",
    "\n",
    "# Reading the .tsv file \n",
    "xyz_loc = pd.read_csv(f'/home/pablo/works/dev_thesis_SEEG/outputs_t03/{patient}/ref_0/percentile_0.9/xyz_loc.csv', sep='\\t')"
   ]
  },
  {
   "cell_type": "code",
   "execution_count": null,
   "metadata": {},
   "outputs": [],
   "source": [
    "from teneto import TemporalNetwork\n",
    "#Ploting the graph\n",
    "from teneto import plot \n",
    "\n",
    "data=data_lgamma\n",
    "#Preparing data node,node,time\n",
    "data=data.transpose(1,2,0)\n",
    "tnet_bu= TemporalNetwork(N=data.shape[0],T=data.shape[2],nettype='wu',from_array=data,\n",
    "                      timetype='discrete',timeunit='epoch', nodelabels=list(xyz_loc['formatted_label'].values))\n",
    "\n",
    "tnet_bu.binarize(threshold_type='percent',threshold_level=0.01,axis='graphlet')\n",
    "\n",
    "tnet_wu=TemporalNetwork(N=data.shape[0],T=data.shape[2],nettype='wu',from_array=data,\n",
    "                      timetype='discrete',timeunit='epoch', nodelabels=list(xyz_loc['formatted_label'].values))\n",
    "\n",
    "\n",
    "\n",
    "fig,ax = plt.subplots(figsize=(25,15))\n",
    "ax = plot.slice_plot(tnet_bu.network, ax, plotedgeweights=False,cmap='Pastel2', nodelabels=list(xyz_loc['formatted_label'].values))\n",
    "plt.tight_layout()\n",
    "fig.show()"
   ]
  },
  {
   "cell_type": "code",
   "execution_count": 18,
   "metadata": {},
   "outputs": [],
   "source": [
    "def plot_weight_distribution_with_threshold(data, bins=30, percentile=90):\n",
    "    \"\"\"\n",
    "    Plots the density distribution of edge weights over time and adds a magnitude-based threshold line.\n",
    "\n",
    "    Parameters\n",
    "    ----------\n",
    "    data : 3D numpy array\n",
    "        Temporal network data in the form (nodes, nodes, time).\n",
    "    bins : int, optional\n",
    "        Number of bins for the histogram, by default 30.\n",
    "    percentile : int, optional\n",
    "        Percentile for magnitude-based threshold, by default 90 (top 10% of weights).\n",
    "    \"\"\"\n",
    "    num_timepoints = data.shape[2]\n",
    "    fig, axs = plt.subplots(num_timepoints, 1, figsize=(10, 3 * num_timepoints))\n",
    "    \n",
    "    # Check if only one subplot axis is returned\n",
    "    if num_timepoints == 1:\n",
    "        axs = [axs]\n",
    "\n",
    "    thresholds = []\n",
    "\n",
    "    for t in range(num_timepoints):\n",
    "        weights = data[:, :, t].flatten()  # Flatten the matrix to get all edge weights\n",
    "        weights = weights[weights != 0]  # Filter out zero weights if they don't contribute to connectivity\n",
    "\n",
    "\n",
    "        # Calculate the threshold at the specified percentile for this time point\n",
    "        threshold_value = np.percentile(weights, percentile)\n",
    "        thresholds.append(threshold_value)\n",
    "        \n",
    "        # Calculate threshold based on the specified percentile\n",
    "        threshold_value = np.percentile(weights, percentile)\n",
    "\n",
    "        # Plot histogram and KDE for the weights\n",
    "        ax = axs[t]\n",
    "        sns.histplot(weights, bins=bins, kde=True, ax=ax, color=\"blue\", alpha=0.6)\n",
    "        \n",
    "        # Add threshold line to plot\n",
    "        ax.axvline(threshold_value, color='red', linestyle='--', label=f'Threshold ({percentile}th percentile)')\n",
    "        \n",
    "        # Set plot labels, title, and legend\n",
    "        ax.set_title(f'Time Point {t + 1} - Weight Distribution with Threshold')\n",
    "        ax.set_xlabel('Edge Weight')\n",
    "        ax.set_ylabel('Density')\n",
    "        ax.legend()\n",
    "\n",
    "    plt.tight_layout()\n",
    "    plt.show()\n",
    "\n",
    "    # Calculate the mean of all threshold values\n",
    "    mean_threshold = np.mean(thresholds)\n",
    "\n",
    "    print(f'Selected threshold value at the {percentile}th percentile is: {threshold_value}')\n",
    "    print(f\"Mean threshold value across time points: {mean_threshold}\")\n"
   ]
  },
  {
   "cell_type": "code",
   "execution_count": null,
   "metadata": {},
   "outputs": [],
   "source": [
    "plot_weight_distribution_with_threshold(data, bins=40, percentile=90)"
   ]
  },
  {
   "cell_type": "code",
   "execution_count": null,
   "metadata": {},
   "outputs": [],
   "source": [
    "adj=Adjacency(tnet_bu.network[:,:,6],labels=tnet_bu.nodelabels)\n",
    "G=nx.Graph(adj.to_graph())\n",
    "\n",
    "cliques = nx.find_cliques(G)\n",
    "cliques = [frozenset(c) for c in cliques if len(c) >= 2]\n",
    "len(cliques)"
   ]
  },
  {
   "cell_type": "code",
   "execution_count": 9,
   "metadata": {},
   "outputs": [],
   "source": [
    "def calculate_temporal_metrics(data, time_labels=None):\n",
    "    \"\"\"\n",
    "    Calculate and plot temporal graph metrics: node strength, eigen-centrality, betweenness centrality, \n",
    "    and clustering coefficient.\n",
    "\n",
    "    Parameters\n",
    "    ----------\n",
    "    data : 3D numpy array\n",
    "        Temporal network data of shape (nodes, nodes, time).\n",
    "    time_labels : list, optional\n",
    "        Labels for time points, defaults to integers starting from 1.\n",
    "\n",
    "    Returns\n",
    "    -------\n",
    "    metrics : dict\n",
    "        Dictionary containing the temporal evolution of each metric.\n",
    "    \"\"\"\n",
    "    # Initialize storage for metrics\n",
    "    num_timepoints = data.shape[2]\n",
    "    metrics = {\"Node Strength\": [], \"Eigen-Centrality\": [], \n",
    "               \"Betweenness Centrality\": [], \"Clustering Coefficient\": []}\n",
    "\n",
    "    # Iterate through each graph in the temporal array\n",
    "    for t in range(num_timepoints):\n",
    "        adjacency_matrix = data[:, :, t]\n",
    "        G = nx.from_numpy_array(adjacency_matrix)\n",
    "\n",
    "        # Node Strength (sum of edge weights connected to a node)\n",
    "        node_strength = np.sum(adjacency_matrix, axis=1)\n",
    "        avg_node_strength = np.mean(node_strength)\n",
    "        metrics[\"Node Strength\"].append(avg_node_strength)\n",
    "\n",
    "        # Eigen-Centrality\n",
    "        eigen_centrality = nx.eigenvector_centrality_numpy(G)\n",
    "        avg_eigen_centrality = np.mean(list(eigen_centrality.values()))\n",
    "        metrics[\"Eigen-Centrality\"].append(avg_eigen_centrality)\n",
    "\n",
    "        # Betweenness Centrality\n",
    "        betweenness = nx.betweenness_centrality(G)\n",
    "        avg_betweenness = np.mean(list(betweenness.values()))\n",
    "        metrics[\"Betweenness Centrality\"].append(avg_betweenness)\n",
    "\n",
    "        # Clustering Coefficient\n",
    "        clustering_coeffs = nx.clustering(G)\n",
    "        avg_clustering_coeff = np.mean(list(clustering_coeffs.values()))\n",
    "        metrics[\"Clustering Coefficient\"].append(avg_clustering_coeff)\n",
    "\n",
    "    # Generate time labels if not provided\n",
    "    if time_labels is None:\n",
    "        time_labels = list(range(0, num_timepoints))\n",
    "\n",
    "    # Plot metrics over time\n",
    "    fig, axs = plt.subplots(2, 2, figsize=(15, 10))\n",
    "    axs = axs.flatten()\n",
    "    metric_names = list(metrics.keys())\n",
    "\n",
    "    for i, (metric_name, metric_values) in enumerate(metrics.items()):\n",
    "        ax = axs[i]\n",
    "        ax.plot(time_labels, metric_values, marker='o', color='b')\n",
    "        ax.set_title(metric_name)\n",
    "        ax.set_xlabel(\"Time\")\n",
    "        ax.set_ylabel(\"Average Value\")\n",
    "\n",
    "    plt.tight_layout()\n",
    "    plt.show()\n",
    "    \n",
    "    return metrics\n"
   ]
  },
  {
   "cell_type": "code",
   "execution_count": null,
   "metadata": {},
   "outputs": [],
   "source": [
    "calculate_temporal_metrics(tnet_bu.network)"
   ]
  },
  {
   "cell_type": "markdown",
   "metadata": {},
   "source": [
    "### Other important metrics"
   ]
  },
  {
   "cell_type": "code",
   "execution_count": null,
   "metadata": {},
   "outputs": [],
   "source": [
    "from teneto import networkmeasures as nwm\n",
    "#Centrality measures \n",
    "degree_centrality_1=nwm.temporal_degree_centrality(tnet_wu,calc='overtime')\n",
    "#Plotting the degree centrality\n",
    "plt.figure(figsize=(10,5))\n",
    "plt.plot(degree_centrality_1)\n",
    "plt.title('Degree centrality over time')\n",
    "plt.xlabel('Channels')\n",
    "plt.xticks(np.arange(0, len(xyz_loc['formatted_label'].values), 1), xyz_loc['formatted_label'].values, rotation=90)\n",
    "plt.ylabel('Degree centrality')\n",
    "plt.show()\n",
    "\n",
    "\n",
    "degree_centrality_2=nwm.temporal_degree_centrality(tnet_wu,calc='pertime')\n",
    "#Plot a sns.heamap of the degree centrality\n",
    "plt.figure(figsize=(10,10))\n",
    "sns.heatmap(degree_centrality_2, yticklabels=xyz_loc['formatted_label'].values, xticklabels=np.arange(0, data.shape[2], 1))\n",
    "plt.title('Degree centrality heatmap')\n",
    "#Size of the yticks\n",
    "\n",
    "plt.xlabel('Time')\n",
    "plt.ylabel('Channels')\n",
    "plt.show()\n",
    "\n"
   ]
  },
  {
   "cell_type": "code",
   "execution_count": null,
   "metadata": {},
   "outputs": [],
   "source": [
    "#Temporal betweenness centrality\n",
    "#Network has to be binary\n",
    "\n",
    "betweenness_centrality_1=nwm.temporal_betweenness_centrality(tnet_bu,calc='overtime')\n",
    "#Plotting the betweenness centrality\n"
   ]
  },
  {
   "cell_type": "code",
   "execution_count": null,
   "metadata": {},
   "outputs": [],
   "source": [
    "#Temporal closeness centrality\n",
    "temporal_closeness_centrality_1=nwm.temporal_closeness_centrality(tnet_bu)"
   ]
  },
  {
   "cell_type": "code",
   "execution_count": null,
   "metadata": {},
   "outputs": [],
   "source": [
    "#Topological overal"
   ]
  },
  {
   "cell_type": "code",
   "execution_count": null,
   "metadata": {},
   "outputs": [],
   "source": [
    "#Bursty coeff\n",
    "burstiness=nwm.bursty_coeff(tnet_bu,calc='edge')"
   ]
  },
  {
   "cell_type": "markdown",
   "metadata": {},
   "source": [
    "### Comumnity detection "
   ]
  },
  {
   "cell_type": "code",
   "execution_count": null,
   "metadata": {},
   "outputs": [],
   "source": [
    "#Lovain clustering\n",
    "communities=teneto.communitydetection.temporal_louvain(tnet_bu, resolution=1.5,njobs=4,consensus_threshold=0.5)"
   ]
  },
  {
   "cell_type": "code",
   "execution_count": null,
   "metadata": {},
   "outputs": [],
   "source": [
    "#plotting the communities\n",
    "fig,ax = plt.subplots(figsize=(25,15))\n",
    "sns.heatmap(communities,cmap='viridis',ax=ax)\n",
    "plt.title('Communities')\n",
    "plt.xlabel('Time')\n",
    "\n",
    "plt.ylabel('Channels')\n",
    "plt.yticks(np.arange(0, len(xyz_loc['formatted_label'].values), 1), xyz_loc['formatted_label'].values)\n",
    "plt.show()"
   ]
  },
  {
   "cell_type": "markdown",
   "metadata": {},
   "source": [
    "#### SubCommunity metrics"
   ]
  },
  {
   "cell_type": "code",
   "execution_count": null,
   "metadata": {},
   "outputs": [],
   "source": [
    "from teneto import communitymeasures\n",
    "#Community measures\n",
    "flexibility_m=communitymeasures.flexibility(communities)\n",
    "plt.figure(figsize=(20,5))\n",
    "#Plotting the flexibility\n",
    "sns.barplot(x=xyz_loc['formatted_label'].values, y=flexibility_m)\n",
    "plt.title('Flexibility')\n",
    "plt.xlabel('Channels')\n",
    "plt.ylabel('Flexibility')\n",
    "plt.xticks(rotation=90)\n",
    "plt.show()"
   ]
  },
  {
   "cell_type": "code",
   "execution_count": null,
   "metadata": {},
   "outputs": [],
   "source": [
    "allegiance_m=communitymeasures.allegiance(communities)\n",
    "plt.figure(figsize=(20,20))\n",
    "sns.heatmap(allegiance_m,cmap='viridis')\n",
    "plt.title('Allegiance')\n",
    "plt.xlabel('Channels')\n",
    "plt.ylabel('Communities')\n",
    "plt.yticks(np.arange(0, len(xyz_loc['formatted_label'].values), 1), xyz_loc['formatted_label'].values)\n",
    "plt.xticks(np.arange(0, len(xyz_loc['formatted_label'].values), 1), xyz_loc['formatted_label'].values)\n",
    "plt.show()"
   ]
  },
  {
   "cell_type": "code",
   "execution_count": null,
   "metadata": {},
   "outputs": [],
   "source": [
    "promiscuity_m=communitymeasures.promiscuity(communities)\n",
    "plt.figure(figsize=(20,5))\n",
    "sns.barplot(x=xyz_loc['formatted_label'].values, y=promiscuity_m)\n",
    "plt.title('Promiscuity')\n",
    "plt.xlabel('Channels')\n",
    "plt.ylabel('Promiscuity')\n",
    "plt.xticks(rotation=90)\n",
    "plt.show()"
   ]
  },
  {
   "cell_type": "code",
   "execution_count": 13,
   "metadata": {},
   "outputs": [],
   "source": [
    "persistence_mg=communitymeasures.persistence(communities,calc='global')\n",
    "persistence_mt=communitymeasures.persistence(communities,calc='time')\n",
    "persistence_mn=communitymeasures.persistence(communities,calc='node')"
   ]
  },
  {
   "cell_type": "code",
   "execution_count": null,
   "metadata": {},
   "outputs": [],
   "source": [
    "plt.figure(figsize=(20,5))\n",
    "sns.barplot(x=xyz_loc['formatted_label'].values, y=persistence_mn)\n",
    "plt.title('Persistence by node')\n",
    "plt.xlabel('Channels')\n",
    "plt.ylabel('Persistence')\n",
    "plt.xticks(rotation=90)\n",
    "plt.show()"
   ]
  },
  {
   "cell_type": "code",
   "execution_count": null,
   "metadata": {},
   "outputs": [],
   "source": [
    "plt.figure(figsize=(20,5))\n",
    "sns.barplot(x=np.linspace(0, 11, data.shape[2]), y=persistence_mt)   \n",
    "plt.title('Persistence by time')\n",
    "plt.xlabel('Time')\n",
    "plt.ylabel('Persistence')\n",
    "plt.show()\n"
   ]
  },
  {
   "cell_type": "code",
   "execution_count": null,
   "metadata": {},
   "outputs": [],
   "source": [
    "communities.shape"
   ]
  },
  {
   "cell_type": "code",
   "execution_count": 28,
   "metadata": {},
   "outputs": [],
   "source": [
    "#Transform communities array into a integer instead of float\n",
    "communities_int=communities.astype(int)"
   ]
  },
  {
   "cell_type": "code",
   "execution_count": null,
   "metadata": {},
   "outputs": [],
   "source": [
    "communities_int"
   ]
  },
  {
   "cell_type": "code",
   "execution_count": 97,
   "metadata": {},
   "outputs": [],
   "source": [
    "#SID\n",
    "sid=nwm.sid(tnet_wu,communities=communities_int,calc='community_pairs')"
   ]
  },
  {
   "cell_type": "code",
   "execution_count": null,
   "metadata": {},
   "outputs": [],
   "source": [
    "sns.heatmap(sid[:,:,7],cmap='viridis')"
   ]
  }
 ],
 "metadata": {
  "kernelspec": {
   "display_name": "Epilep",
   "language": "python",
   "name": "python3"
  },
  "language_info": {
   "codemirror_mode": {
    "name": "ipython",
    "version": 3
   },
   "file_extension": ".py",
   "mimetype": "text/x-python",
   "name": "python",
   "nbconvert_exporter": "python",
   "pygments_lexer": "ipython3",
   "version": "3.11.6"
  }
 },
 "nbformat": 4,
 "nbformat_minor": 2
}
