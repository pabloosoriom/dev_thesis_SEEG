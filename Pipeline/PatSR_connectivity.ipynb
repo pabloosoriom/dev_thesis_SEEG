{
 "cells": [
  {
   "cell_type": "code",
   "execution_count": 4,
   "metadata": {},
   "outputs": [],
   "source": [
    "import mne\n",
    "import numpy as np\n",
    "import matplotlib.pyplot as plt\n",
    "from sklearn.metrics import pairwise_distances\n",
    "from nltools.data import Brain_Data, Design_Matrix, Adjacency\n",
    "import networkx as nx\n",
    "from scipy import signal\n",
    "from mne_connectivity import spectral_connectivity_epochs\n",
    "import seaborn as sns\n",
    "import pandas as pd\n",
    "import numpy as np\n",
    "import matplotlib.pyplot as plt\n",
    "from PIL import Image\n",
    "import io\n",
    "\n",
    "from functions.EpiIndex import *\n",
    "from functions.Connectivity import *"
   ]
  },
  {
   "cell_type": "code",
   "execution_count": 2,
   "metadata": {},
   "outputs": [
    {
     "name": "stdout",
     "output_type": "stream",
     "text": [
      "Opening raw data file /home/pablo/works/dev_thesis_SEEG/data/pte_6_cleaned.fif...\n",
      "Isotrak not found\n",
      "    Range : 1356800 ... 1510400 =   5300.000 ...  5900.000 secs\n",
      "Ready.\n",
      "Reading 0 ... 153600  =      0.000 ...   600.000 secs...\n"
     ]
    },
    {
     "name": "stderr",
     "output_type": "stream",
     "text": [
      "/tmp/ipykernel_145627/4196859434.py:1: RuntimeWarning: This filename (/home/pablo/works/dev_thesis_SEEG/data/pte_6_cleaned.fif) does not conform to MNE naming conventions. All raw files should end with raw.fif, raw_sss.fif, raw_tsss.fif, _meg.fif, _eeg.fif, _ieeg.fif, raw.fif.gz, raw_sss.fif.gz, raw_tsss.fif.gz, _meg.fif.gz, _eeg.fif.gz or _ieeg.fif.gz\n",
      "  raw=mne.io.read_raw_fif('/home/pablo/works/dev_thesis_SEEG/data/pte_6_cleaned.fif', preload=True)\n"
     ]
    }
   ],
   "source": [
    "raw=mne.io.read_raw_fif('/home/pablo/works/dev_thesis_SEEG/data/pte_6_cleaned.fif', preload=True)\n",
    "#Reading a npy file \n",
    "data = np.load('/home/pablo/works/dev_thesis_SEEG/data/outputs/pte_6_connectivity_data_dense.npy')\n",
    "con_data=np.mean(data,axis=3)\n",
    "ch_names = raw.info['ch_names']"
   ]
  },
  {
   "cell_type": "code",
   "execution_count": 6,
   "metadata": {},
   "outputs": [],
   "source": [
    "# Function to create a frame for the image\n",
    "def create_frame(matrix, band_name, ch_names, frame_number):\n",
    "    plt.figure(figsize=(10, 10))\n",
    "    sns.heatmap(matrix, xticklabels=ch_names, yticklabels=ch_names, cmap='viridis')\n",
    "    plt.xticks(fontsize=8, rotation=90)\n",
    "    plt.yticks(fontsize=8)\n",
    "    plt.title(f'{band_name} - (Epoch) {frame_number}')\n",
    "    \n",
    "    # Save the plot to a Pillow image using an in-memory buffer\n",
    "    buf = io.BytesIO()\n",
    "    plt.tight_layout()\n",
    "    plt.savefig(buf, format='png')\n",
    "    plt.close()\n",
    "    buf.seek(0)\n",
    "    return Image.open(buf)\n",
    "\n",
    "# Create the animation\n",
    "def create_animation(array, bands, ch_names):\n",
    "    for i, band_name in enumerate(bands):\n",
    "        frames = []\n",
    "        print(f\"Creating animation for band: {band_name}\")\n",
    "        for j in range(array.shape[0]):\n",
    "            matrix = array[j, :, :]\n",
    "            print(j)\n",
    "            frame_img = create_frame(matrix, band_name, ch_names, j)\n",
    "            frames.append(frame_img)\n",
    "\n",
    "        # Save the frames as an animated GIF\n",
    "        frames[0].save(f'{band_name}_animation.gif', save_all=True, append_images=frames[1:], duration=500, loop=0)\n"
   ]
  },
  {
   "cell_type": "code",
   "execution_count": 7,
   "metadata": {},
   "outputs": [
    {
     "name": "stdout",
     "output_type": "stream",
     "text": [
      "Creating animation for band: theta\n",
      "0\n",
      "1\n",
      "2\n",
      "3\n",
      "4\n",
      "5\n",
      "6\n",
      "7\n",
      "8\n",
      "9\n",
      "10\n",
      "11\n",
      "12\n",
      "13\n",
      "14\n"
     ]
    }
   ],
   "source": [
    "bands=['theta']\n",
    "#Image plot every connectivity matrix with the names of the channels in a little font\n",
    "# N_mat=Connectivity_matrixes.shape[0]\n",
    "# for i in range(N_mat):\n",
    "#     plt.figure(figsize=(10,10))\n",
    "#     sns.heatmap(Connectivity_matrixes[i,:,:,0],xticklabels=channels,yticklabels=channels)\n",
    "#     plt.xticks(fontsize=8, rotation=90)\n",
    "#     plt.yticks(fontsize=8)\n",
    "#     plt.title(f'Connectivity matrix at time {i}')\n",
    "#     plt.show()\n",
    "create_animation(con_data, bands, ch_names)"
   ]
  }
 ],
 "metadata": {
  "kernelspec": {
   "display_name": "Epilep",
   "language": "python",
   "name": "python3"
  },
  "language_info": {
   "codemirror_mode": {
    "name": "ipython",
    "version": 3
   },
   "file_extension": ".py",
   "mimetype": "text/x-python",
   "name": "python",
   "nbconvert_exporter": "python",
   "pygments_lexer": "ipython3",
   "version": "3.11.9"
  }
 },
 "nbformat": 4,
 "nbformat_minor": 2
}
