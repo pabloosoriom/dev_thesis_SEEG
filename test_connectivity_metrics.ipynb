{
 "cells": [
  {
   "cell_type": "code",
   "execution_count": 15,
   "metadata": {},
   "outputs": [
    {
     "ename": "ModuleNotFoundError",
     "evalue": "No module named 'mne.connectivity'",
     "output_type": "error",
     "traceback": [
      "\u001b[0;31m---------------------------------------------------------------------------\u001b[0m",
      "\u001b[0;31mModuleNotFoundError\u001b[0m                       Traceback (most recent call last)",
      "\u001b[0;32m/tmp/ipykernel_2755/718410557.py\u001b[0m in \u001b[0;36m<module>\u001b[0;34m\u001b[0m\n\u001b[1;32m      1\u001b[0m \u001b[0;32mimport\u001b[0m \u001b[0mmne\u001b[0m\u001b[0;34m\u001b[0m\u001b[0;34m\u001b[0m\u001b[0m\n\u001b[0;32m----> 2\u001b[0;31m \u001b[0;32mfrom\u001b[0m \u001b[0mmne\u001b[0m\u001b[0;34m.\u001b[0m\u001b[0mconnectivity\u001b[0m \u001b[0;32mimport\u001b[0m \u001b[0mspectral_connectivity\u001b[0m\u001b[0;34m\u001b[0m\u001b[0;34m\u001b[0m\u001b[0m\n\u001b[0m",
      "\u001b[0;31mModuleNotFoundError\u001b[0m: No module named 'mne.connectivity'"
     ]
    }
   ],
   "source": [
    "import mne\n",
    "from mne.connectivity import spectral_connectivity\n"
   ]
  },
  {
   "cell_type": "code",
   "execution_count": 16,
   "metadata": {},
   "outputs": [
    {
     "ename": "AttributeError",
     "evalue": "module 'mne' has no attribute 'connectivity'",
     "output_type": "error",
     "traceback": [
      "\u001b[0;31m---------------------------------------------------------------------------\u001b[0m",
      "\u001b[0;31mAttributeError\u001b[0m                            Traceback (most recent call last)",
      "\u001b[0;32m/tmp/ipykernel_2755/914286856.py\u001b[0m in \u001b[0;36m<module>\u001b[0;34m\u001b[0m\n\u001b[0;32m----> 1\u001b[0;31m \u001b[0mmne\u001b[0m\u001b[0;34m.\u001b[0m\u001b[0mconnectivity\u001b[0m\u001b[0;34m.\u001b[0m\u001b[0mspectral_connectivity\u001b[0m\u001b[0;34m\u001b[0m\u001b[0;34m\u001b[0m\u001b[0m\n\u001b[0m",
      "\u001b[0;31mAttributeError\u001b[0m: module 'mne' has no attribute 'connectivity'"
     ]
    }
   ],
   "source": [
    "mne.connectivity.spectral_connectivity"
   ]
  },
  {
   "cell_type": "code",
   "execution_count": 10,
   "metadata": {},
   "outputs": [
    {
     "ename": "ValueError",
     "evalue": "Each entry in data must be 2D, got shape (1000,)",
     "output_type": "error",
     "traceback": [
      "\u001b[0;31m---------------------------------------------------------------------------\u001b[0m",
      "\u001b[0;31mValueError\u001b[0m                                Traceback (most recent call last)",
      "\u001b[0;32m/tmp/ipykernel_2755/591217441.py\u001b[0m in \u001b[0;36m<module>\u001b[0;34m\u001b[0m\n\u001b[1;32m     18\u001b[0m     \u001b[0;32mif\u001b[0m \u001b[0mmetric\u001b[0m \u001b[0;34m==\u001b[0m \u001b[0;34m'coh'\u001b[0m\u001b[0;34m:\u001b[0m\u001b[0;34m\u001b[0m\u001b[0;34m\u001b[0m\u001b[0m\n\u001b[1;32m     19\u001b[0m         \u001b[0;31m# Compute coherence\u001b[0m\u001b[0;34m\u001b[0m\u001b[0;34m\u001b[0m\u001b[0m\n\u001b[0;32m---> 20\u001b[0;31m         \u001b[0m_\u001b[0m\u001b[0;34m,\u001b[0m \u001b[0mcoh\u001b[0m \u001b[0;34m=\u001b[0m \u001b[0menvelope_correlation\u001b[0m\u001b[0;34m(\u001b[0m\u001b[0mdata\u001b[0m\u001b[0;34m)\u001b[0m\u001b[0;34m\u001b[0m\u001b[0;34m\u001b[0m\u001b[0m\n\u001b[0m\u001b[1;32m     21\u001b[0m         \u001b[0mmetrics_results\u001b[0m\u001b[0;34m[\u001b[0m\u001b[0mmetric\u001b[0m\u001b[0;34m]\u001b[0m \u001b[0;34m=\u001b[0m \u001b[0mcoh\u001b[0m\u001b[0;34m\u001b[0m\u001b[0;34m\u001b[0m\u001b[0m\n\u001b[1;32m     22\u001b[0m     \u001b[0;32melif\u001b[0m \u001b[0mmetric\u001b[0m \u001b[0;34m==\u001b[0m \u001b[0;34m'plv'\u001b[0m\u001b[0;34m:\u001b[0m\u001b[0;34m\u001b[0m\u001b[0;34m\u001b[0m\u001b[0m\n",
      "\u001b[0;32m<decorator-gen-626>\u001b[0m in \u001b[0;36menvelope_correlation\u001b[0;34m(data, names, orthogonalize, log, absolute, verbose)\u001b[0m\n",
      "\u001b[0;32m~/anaconda3/lib/python3.9/site-packages/mne_connectivity/envelope.py\u001b[0m in \u001b[0;36menvelope_correlation\u001b[0;34m(data, names, orthogonalize, log, absolute, verbose)\u001b[0m\n\u001b[1;32m    113\u001b[0m             \u001b[0mepoch_data\u001b[0m \u001b[0;34m=\u001b[0m \u001b[0mepoch_data\u001b[0m\u001b[0;34m.\u001b[0m\u001b[0mdata\u001b[0m\u001b[0;34m\u001b[0m\u001b[0;34m\u001b[0m\u001b[0m\n\u001b[1;32m    114\u001b[0m         \u001b[0;32mif\u001b[0m \u001b[0mepoch_data\u001b[0m\u001b[0;34m.\u001b[0m\u001b[0mndim\u001b[0m \u001b[0;34m!=\u001b[0m \u001b[0;36m2\u001b[0m\u001b[0;34m:\u001b[0m\u001b[0;34m\u001b[0m\u001b[0;34m\u001b[0m\u001b[0m\n\u001b[0;32m--> 115\u001b[0;31m             raise ValueError('Each entry in data must be 2D, got shape %s'\n\u001b[0m\u001b[1;32m    116\u001b[0m                              % (epoch_data.shape,))\n\u001b[1;32m    117\u001b[0m         \u001b[0mn_nodes\u001b[0m\u001b[0;34m,\u001b[0m \u001b[0mn_times\u001b[0m \u001b[0;34m=\u001b[0m \u001b[0mepoch_data\u001b[0m\u001b[0;34m.\u001b[0m\u001b[0mshape\u001b[0m\u001b[0;34m\u001b[0m\u001b[0;34m\u001b[0m\u001b[0m\n",
      "\u001b[0;31mValueError\u001b[0m: Each entry in data must be 2D, got shape (1000,)"
     ]
    }
   ],
   "source": [
    "import numpy as np\n",
    "from mne_connectivity import seed_target_indices, envelope_correlation\n",
    "# Generate synthetic data\n",
    "np.random.seed(0)\n",
    "n_channels = 10  # Number of channels\n",
    "n_samples = 1000  # Number of time samples\n",
    "\n",
    "data = np.random.randn(n_channels, n_samples)\n",
    "\n",
    "# Define frequency bands of interest\n",
    "freq_bands = [(8, 10), (10, 13)]\n",
    "\n",
    "# Initialize a dictionary to store metric results\n",
    "metrics_results = {}\n",
    "\n",
    "# Compute connectivity metrics\n",
    "for metric in ['coh', 'plv', 'imagcoh']:\n",
    "    if metric == 'coh':\n",
    "        # Compute coherence\n",
    "        _, coh = envelope_correlation(data)\n",
    "        metrics_results[metric] = coh\n",
    "    elif metric == 'plv':\n",
    "        # Compute phase locking value (PLV)\n",
    "        seeds, targets = seed_target_indices(n_channels, random_state=0)\n",
    "        plv, _, _ = phase_locking_value(data, freq_bands, seeds, targets)\n",
    "        metrics_results[metric] = plv\n",
    "    elif metric == 'imagcoh':\n",
    "        # Compute imaginary coherence\n",
    "        _, imag_coh = envelope_correlation(data, method='imag_coherence')\n",
    "        metrics_results[metric] = imag_coh\n",
    "\n",
    "# Compare metric performance\n",
    "for metric, con in metrics_results.items():\n",
    "    print(f\"Metric: {metric}\")\n",
    "    print(f\"Connectivity matrix shape: {con.shape}\")\n",
    "    print(f\"Average connectivity value: {np.mean(con)}\")\n",
    "    print(\"------------------------\")\n"
   ]
  },
  {
   "cell_type": "code",
   "execution_count": 12,
   "metadata": {},
   "outputs": [
    {
     "ename": "ModuleNotFoundError",
     "evalue": "No module named 'mne.connectivity'",
     "output_type": "error",
     "traceback": [
      "\u001b[0;31m---------------------------------------------------------------------------\u001b[0m",
      "\u001b[0;31mModuleNotFoundError\u001b[0m                       Traceback (most recent call last)",
      "\u001b[0;32m/tmp/ipykernel_2161/762013116.py\u001b[0m in \u001b[0;36m<module>\u001b[0;34m\u001b[0m\n\u001b[1;32m      2\u001b[0m \u001b[0;34m\u001b[0m\u001b[0m\n\u001b[1;32m      3\u001b[0m \u001b[0;32mimport\u001b[0m \u001b[0mmne\u001b[0m\u001b[0;34m\u001b[0m\u001b[0;34m\u001b[0m\u001b[0m\n\u001b[0;32m----> 4\u001b[0;31m \u001b[0;32mimport\u001b[0m \u001b[0mmne\u001b[0m\u001b[0;34m.\u001b[0m\u001b[0mconnectivity\u001b[0m\u001b[0;34m.\u001b[0m\u001b[0mspectral\u001b[0m\u001b[0;34m\u001b[0m\u001b[0;34m\u001b[0m\u001b[0m\n\u001b[0m\u001b[1;32m      5\u001b[0m \u001b[0;32mfrom\u001b[0m \u001b[0mmne_connectivity\u001b[0m \u001b[0;32mimport\u001b[0m \u001b[0mspectral_connectivity_epochs\u001b[0m\u001b[0;34m\u001b[0m\u001b[0;34m\u001b[0m\u001b[0m\n\u001b[1;32m      6\u001b[0m \u001b[0;32mfrom\u001b[0m \u001b[0mmne\u001b[0m\u001b[0;34m.\u001b[0m\u001b[0mdatasets\u001b[0m \u001b[0;32mimport\u001b[0m \u001b[0msample\u001b[0m\u001b[0;34m\u001b[0m\u001b[0;34m\u001b[0m\u001b[0m\n",
      "\u001b[0;31mModuleNotFoundError\u001b[0m: No module named 'mne.connectivity'"
     ]
    }
   ],
   "source": [
    "import os.path as op\n",
    "\n",
    "import mne\n",
    "import mne.connectivity.spectral\n",
    "from mne_connectivity import spectral_connectivity_epochs\n",
    "from mne.datasets import sample\n",
    "from mne_connectivity.viz import plot_sensors_connectivity\n",
    "import matplotlib.pyplot as plt\n",
    "import numpy as np"
   ]
  },
  {
   "cell_type": "code",
   "execution_count": 4,
   "metadata": {},
   "outputs": [],
   "source": [
    "# Generate synthetic data\n",
    "np.random.seed(0)\n",
    "n_channels = 10  # Number of channels\n",
    "n_samples = 1000  # Number of time samples\n",
    "\n",
    "data = np.random.randn(n_channels, n_samples)\n",
    "\n",
    "# Define frequency bands of interest\n",
    "freq_bands = [(8, 10), (10, 13)]\n",
    "\n",
    "# Initialize a dictionary to store metric results\n",
    "metrics_results = {}\n"
   ]
  },
  {
   "cell_type": "code",
   "execution_count": 5,
   "metadata": {},
   "outputs": [
    {
     "ename": "NameError",
     "evalue": "name 'spectral_connectivity' is not defined",
     "output_type": "error",
     "traceback": [
      "\u001b[0;31m---------------------------------------------------------------------------\u001b[0m",
      "\u001b[0;31mNameError\u001b[0m                                 Traceback (most recent call last)",
      "\u001b[0;32m/tmp/ipykernel_1394/2743821048.py\u001b[0m in \u001b[0;36m<module>\u001b[0;34m\u001b[0m\n\u001b[1;32m      1\u001b[0m \u001b[0;31m# Compute connectivity metrics\u001b[0m\u001b[0;34m\u001b[0m\u001b[0;34m\u001b[0m\u001b[0m\n\u001b[1;32m      2\u001b[0m \u001b[0;32mfor\u001b[0m \u001b[0mmetric\u001b[0m \u001b[0;32min\u001b[0m \u001b[0;34m[\u001b[0m\u001b[0;34m'cor'\u001b[0m\u001b[0;34m,\u001b[0m \u001b[0;34m'xcor'\u001b[0m\u001b[0;34m,\u001b[0m \u001b[0;34m'coh'\u001b[0m\u001b[0;34m,\u001b[0m \u001b[0;34m'imagcohy'\u001b[0m\u001b[0;34m,\u001b[0m \u001b[0;34m'plv'\u001b[0m\u001b[0;34m,\u001b[0m \u001b[0;34m'pli'\u001b[0m\u001b[0;34m,\u001b[0m \u001b[0;34m'wpli'\u001b[0m\u001b[0;34m,\u001b[0m \u001b[0;34m'uspli'\u001b[0m\u001b[0;34m,\u001b[0m \u001b[0;34m'dswpli'\u001b[0m\u001b[0;34m]\u001b[0m\u001b[0;34m:\u001b[0m\u001b[0;34m\u001b[0m\u001b[0;34m\u001b[0m\u001b[0m\n\u001b[0;32m----> 3\u001b[0;31m     con, freqs, times, _, _ = spectral_connectivity(\n\u001b[0m\u001b[1;32m      4\u001b[0m         \u001b[0mdata\u001b[0m\u001b[0;34m,\u001b[0m \u001b[0mmethod\u001b[0m\u001b[0;34m=\u001b[0m\u001b[0mmetric\u001b[0m\u001b[0;34m,\u001b[0m \u001b[0mmode\u001b[0m\u001b[0;34m=\u001b[0m\u001b[0;34m'multitaper'\u001b[0m\u001b[0;34m,\u001b[0m \u001b[0msfreq\u001b[0m\u001b[0;34m=\u001b[0m\u001b[0;36m1\u001b[0m\u001b[0;34m,\u001b[0m\u001b[0;34m\u001b[0m\u001b[0;34m\u001b[0m\u001b[0m\n\u001b[1;32m      5\u001b[0m         \u001b[0mfmin\u001b[0m\u001b[0;34m=\u001b[0m\u001b[0mfreq_bands\u001b[0m\u001b[0;34m[\u001b[0m\u001b[0;36m0\u001b[0m\u001b[0;34m]\u001b[0m\u001b[0;34m[\u001b[0m\u001b[0;36m0\u001b[0m\u001b[0;34m]\u001b[0m\u001b[0;34m,\u001b[0m \u001b[0mfmax\u001b[0m\u001b[0;34m=\u001b[0m\u001b[0mfreq_bands\u001b[0m\u001b[0;34m[\u001b[0m\u001b[0;34m-\u001b[0m\u001b[0;36m1\u001b[0m\u001b[0;34m]\u001b[0m\u001b[0;34m[\u001b[0m\u001b[0;36m1\u001b[0m\u001b[0;34m]\u001b[0m\u001b[0;34m,\u001b[0m \u001b[0mfaverage\u001b[0m\u001b[0;34m=\u001b[0m\u001b[0;32mTrue\u001b[0m\u001b[0;34m,\u001b[0m \u001b[0mtmin\u001b[0m\u001b[0;34m=\u001b[0m\u001b[0;36m0\u001b[0m\u001b[0;34m,\u001b[0m \u001b[0mtmax\u001b[0m\u001b[0;34m=\u001b[0m\u001b[0mn_samples\u001b[0m\u001b[0;34m-\u001b[0m\u001b[0;36m1\u001b[0m\u001b[0;34m\u001b[0m\u001b[0;34m\u001b[0m\u001b[0m\n",
      "\u001b[0;31mNameError\u001b[0m: name 'spectral_connectivity' is not defined"
     ]
    }
   ],
   "source": [
    "# Compute connectivity metrics\n",
    "for metric in ['cor', 'xcor', 'coh', 'imagcohy', 'plv', 'pli', 'wpli', 'uspli', 'dswpli']:\n",
    "    con, freqs, times, _, _ = spectral_connectivity(\n",
    "        data, method=metric, mode='multitaper', sfreq=1,\n",
    "        fmin=freq_bands[0][0], fmax=freq_bands[-1][1], faverage=True, tmin=0, tmax=n_samples-1\n",
    "    )\n",
    "    metrics_results[metric] = con\n",
    "\n",
    "# Compare metric performance\n",
    "for metric, con in metrics_results.items():\n",
    "    print(f\"Metric: {metric}\")\n",
    "    print(f\"Connectivity matrix shape: {con.shape}\")\n",
    "    print(f\"Average connectivity value: {np.mean(con)}\")\n",
    "    print(\"------------------------\")"
   ]
  },
  {
   "cell_type": "code",
   "execution_count": null,
   "metadata": {},
   "outputs": [],
   "source": []
  }
 ],
 "metadata": {
  "kernelspec": {
   "display_name": "base",
   "language": "python",
   "name": "python3"
  },
  "language_info": {
   "codemirror_mode": {
    "name": "ipython",
    "version": 3
   },
   "file_extension": ".py",
   "mimetype": "text/x-python",
   "name": "python",
   "nbconvert_exporter": "python",
   "pygments_lexer": "ipython3",
   "version": "3.9.13"
  },
  "orig_nbformat": 4
 },
 "nbformat": 4,
 "nbformat_minor": 2
}
