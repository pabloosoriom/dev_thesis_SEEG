{
 "cells": [
  {
   "cell_type": "code",
   "execution_count": 1,
   "metadata": {},
   "outputs": [],
   "source": [
    "import mne\n",
    "import numpy as np\n",
    "import matplotlib.pyplot as plt\n",
    "from scipy import signal"
   ]
  },
  {
   "cell_type": "code",
   "execution_count": null,
   "metadata": {},
   "outputs": [],
   "source": [
    "#Reading data\n",
    "raw = mne.io.read_raw_nihon('/home/pablo/Documents/Universidad Data/Maestría en Matemáticas Aplicadas/Tesis/data/FA330022.EEG', preload=True)"
   ]
  },
  {
   "cell_type": "code",
   "execution_count": null,
   "metadata": {},
   "outputs": [],
   "source": [
    "#Pick only EEG channels\n",
    "raw.pick_types(eeg=True, bio=False, misc=False)"
   ]
  },
  {
   "cell_type": "code",
   "execution_count": null,
   "metadata": {},
   "outputs": [],
   "source": [
    "#Channels list\n",
    "channels = raw.ch_names\n",
    "channels_to_remove=['E']\n",
    "raw.drop_channels(channels_to_remove)\n",
    "\n",
    "raw.plot_psd(fmax=50)"
   ]
  },
  {
   "cell_type": "code",
   "execution_count": null,
   "metadata": {},
   "outputs": [],
   "source": [
    "# Step 4: Filtering\n",
    "raw.filter(l_freq = 0, h_freq = 97.0)\n",
    "# Set the frequency you want to remove; it's commonly 50 Hz or 60 Hz\n",
    "notch_freq = 60  # or 60 for the USA and other countries using 60Hz\n",
    "# Apply notch filter\n",
    "raw.notch_filter(freqs = notch_freq)"
   ]
  },
  {
   "cell_type": "code",
   "execution_count": null,
   "metadata": {},
   "outputs": [],
   "source": [
    "data=raw.get_data()[6]\n",
    "#Sampling signal at 500 Hz\n",
    "fs=500\n",
    "#Sampling period\n",
    "T=1/fs\n",
    "#Length of signal\n",
    "L=len(data)\n",
    "#Time vector\n",
    "t=np.arange(0,L)*T\n",
    "#Plotting signal\n",
    "plt.plot(t,data)\n",
    "plt.xlabel('Time')\n",
    "plt.ylabel('Amplitude')\n",
    "plt.show()"
   ]
  },
  {
   "cell_type": "code",
   "execution_count": null,
   "metadata": {},
   "outputs": [],
   "source": [
    "#Getting the energy spectral density gammma(w)=(X(w)*X(w))/2pi where X(w) is the fourier transform of x(t)\n",
    "#and x(t) is the signal. Using the periodogram method\n",
    "#Getting the periodogram of the signal data\n",
    "f, Pxx_den = signal.periodogram(data,fs=raw.info['sfreq'],scaling='density')\n",
    "#plotting the periodogram\n",
    "plt.semilogy(f, Pxx_den)\n",
    "plt.xlabel('frequency [Hz]')\n",
    "plt.ylabel('PSD [V**2/Hz]')\n",
    "plt.show()"
   ]
  },
  {
   "cell_type": "code",
   "execution_count": null,
   "metadata": {},
   "outputs": [],
   "source": [
    "(f, S)= signal.welch(data, fs=raw.info['sfreq'], nperseg=1024*5)\n",
    "\n",
    "plt.semilogy(f, S)\n",
    "plt.xlim([0, 100])\n",
    "plt.xlabel('frequency [Hz]')\n",
    "plt.ylabel('PSD [V**2/Hz]')\n",
    "plt.show()"
   ]
  },
  {
   "cell_type": "code",
   "execution_count": 9,
   "metadata": {},
   "outputs": [],
   "source": [
    "def calculate_ER(data, window_size, overlap):\n",
    "    \"\"\"\n",
    "    Calculate time-varying Energy Ratio (ER) from Theta(w) using a sliding window.\n",
    "\n",
    "    Parameters:\n",
    "    - S: Periodogram estimate for Theta(w)\n",
    "    - f: Frequency vector\n",
    "    - window_size: Size of the sliding window in samples\n",
    "    - overlap: Overlap between consecutive windows in samples\n",
    "\n",
    "    Returns:\n",
    "    - time_points: Array of time points corresponding to the center of each window\n",
    "    - ER_values: Array of time-varying ER values\n",
    "    \"\"\"\n",
    "\n",
    "    # Initialize empty arrays to store results\n",
    "    time_points = []\n",
    "    ER_values = []\n",
    "\n",
    "    # Iterate through the signal with the sliding window\n",
    "    for start in range(0, len(data) - window_size + 1, overlap):\n",
    "        end = start + window_size\n",
    "        #(f, S)= signal.welch(data[start:end], fs=raw.info['sfreq'], nperseg=1024*5)\n",
    "        (f,S)=signal.periodogram(data[start:end],fs=raw.info['sfreq'],scaling='density')\n",
    "\n",
    "        # Calculate energy in each frequency band for the current window\n",
    "        ETheta = np.sum(S[np.where((f >= 3.5) & (f < 7.4))])\n",
    "        EAlpha = np.sum(S[np.where((f >= 7.4) & (f < 12.4))])\n",
    "        EBeta = np.sum(S[np.where((f >= 12.4) & (f < 24))])\n",
    "        EGamma = np.sum(S[np.where((f >= 24) & (f <= 97))])\n",
    "\n",
    "        # Calculate Energy Ratio (ER) for the current window\n",
    "        ER = (EBeta + EGamma) / (ETheta + EAlpha)\n",
    "\n",
    "        # Store results\n",
    "        time_points.append((start + end) / 2)  # Use the center of the window as the time point\n",
    "        ER_values.append(ER)\n",
    "\n",
    "    return np.array(time_points), np.array(ER_values)\n",
    "\n",
    "# Example usage\n",
    "\n",
    "window_size = 5000#Adjust as needed\n",
    "overlap = 1 # Adjust as needed\n",
    "time_points, ER_values = calculate_ER(data, window_size, overlap)\n"
   ]
  },
  {
   "cell_type": "code",
   "execution_count": null,
   "metadata": {},
   "outputs": [],
   "source": [
    "#Plotting the ER values\n",
    "plt.plot(time_points, ER_values)\n",
    "plt.xlabel('Time [s]')\n",
    "plt.ylabel('Energy Ratio (ER)')\n",
    "plt.show()\n"
   ]
  },
  {
   "cell_type": "code",
   "execution_count": null,
   "metadata": {},
   "outputs": [],
   "source": [
    "ER=ER_values\n",
    "ER=(ER-np.min(ER))/(np.max(ER)-np.min(ER))\n",
    "N=len(ER)\n",
    "ER_n=(1/N)*np.sum(ER)\n",
    "ER_n"
   ]
  },
  {
   "cell_type": "markdown",
   "metadata": {},
   "source": [
    "Now we are considering two different orientations. \n",
    "- To find an optimal lambda by runnig the code and selecting the lambda which gets the least amount of anomalies.\n",
    "- A novel approach, considering the functional derivative and a sign function. With this in mind, take into account th deriate is high and states for a long time\n",
    "\n",
    "Let's do it!"
   ]
  },
  {
   "cell_type": "markdown",
   "metadata": {},
   "source": [
    "### First approach"
   ]
  },
  {
   "cell_type": "code",
   "execution_count": null,
   "metadata": {},
   "outputs": [],
   "source": [
    "U_n=np.zeros(len(ER))\n",
    "\n",
    "#Lambda is an array to explore the best value for the threshold\n",
    "lambdas_=np.arange(0,700,100)\n",
    "alarm_times=np.arange(0,len(ER),1)\n",
    "best_lambda=0\n",
    "\n",
    "for lambda_ in lambdas_:\n",
    "    U_n_temp=np.zeros(len(ER))\n",
    "    v=0.1   \n",
    "    u_min=0 \n",
    "    temp_alarm_times=[]\n",
    "    print('lambda is ',lambda_)\n",
    "    for i in range(N):\n",
    "        U_n_temp[i]=np.sum(ER[0:i]-ER_n-0.1)\n",
    "        u_min=np.min(U_n_temp)\n",
    "        if (U_n_temp[i]-u_min)>lambda_:\n",
    "            #print('Anomaly detected at window number ',i)\n",
    "            temp_alarm_times.append(i)\n",
    "            u_min=0\n",
    "            U_n_temp[i]=0\n",
    "    #We are trying to find the lambda which give the least amount of alamrm time, still >0\n",
    "    print ('Total alarm times are ',len(temp_alarm_times))\n",
    "    print ('Current best lambda is ',best_lambda)\n",
    "    print ('Current best alarm times are ',len(alarm_times))\n",
    "    print('-------------------')\n",
    "    if len(temp_alarm_times)<len(alarm_times) and len(temp_alarm_times)>0:\n",
    "        alarm_times=temp_alarm_times\n",
    "        best_lambda=lambda_\n",
    "        U_n=U_n_temp\n",
    "\n",
    "            \n",
    "        \n",
    "#Putting a figure more larger in the x axis\n",
    "print('Best lambda is ',best_lambda)\n",
    "print ('Total alarm times are ',len(alarm_times))\n",
    "plt.figure(figsize=(20,10))\n",
    "plt.plot(U_n)\n",
    "plt.xlabel('Window number')\n",
    "plt.ylabel('U_n')\n",
    "plt.show()"
   ]
  },
  {
   "cell_type": "markdown",
   "metadata": {},
   "source": [
    "### Second approach"
   ]
  },
  {
   "cell_type": "code",
   "execution_count": null,
   "metadata": {},
   "outputs": [],
   "source": [
    "U_n=np.zeros(len(ER))\n",
    "v=0.1\n",
    "u_min=0\n",
    "#lambda_=108867\n",
    "lambda_=500\n",
    "alarm_times=[]\n",
    "for i in range(N):\n",
    "    U_n[i]=np.sum(ER[0:i]-ER_n-0.1)\n",
    "    u_min=np.min(U_n)\n",
    "    if (U_n[i]-u_min)>lambda_:\n",
    "        #print('Anomaly detected at window number ',i)\n",
    "        alarm_times.append(i)\n",
    "\n",
    "#Getting the derivative of the signal U_n\n",
    "dt = 1 \n",
    "dU_n=np.diff(U_n)/dt\n",
    "\n",
    "#Plotting the signal U_n\n",
    "plt.plot(U_n)\n",
    "plt.xlabel('Window number')\n",
    "plt.ylabel('U_n')\n",
    "plt.show()\n",
    "\n",
    "#Plotting the derivative of the signal U_n\n",
    "plt.plot(dU_n)\n",
    "plt.xlabel('Window number')\n",
    "plt.ylabel('dU_n')\n",
    "plt.show()\n",
    "\n",
    "#Getting the sign of the derivative of the signal U_n\n",
    "sign_dU_n=np.sign(dU_n)\n",
    "\n",
    "#Plotting the sign of the derivative of the signal U_n\n",
    "plt.plot(sign_dU_n)\n",
    "plt.xlabel('Window number')\n",
    "plt.ylabel('sign(dU_n)')\n",
    "plt.show()\n",
    "\n"
   ]
  },
  {
   "cell_type": "code",
   "execution_count": null,
   "metadata": {},
   "outputs": [],
   "source": [
    "#Compare dU_n with the ER values\n",
    "plt.plot(ER)\n",
    "plt.plot(dU_n)\n",
    "plt.xlabel('Window number')\n",
    "plt.ylabel('ER and dU_n')\n",
    "plt.legend(['ER','dU_n'])\n",
    "plt.show()"
   ]
  },
  {
   "cell_type": "code",
   "execution_count": null,
   "metadata": {},
   "outputs": [],
   "source": [
    "#Integral of ER\n",
    "integral_ER=np.cumsum(ER)\n",
    "\n",
    "#Plotting the integral of ER\n",
    "plt.plot(integral_ER)\n",
    "plt.xlabel('Window number')\n",
    "plt.ylabel('Integral of ER')\n",
    "plt.show()\n"
   ]
  },
  {
   "cell_type": "code",
   "execution_count": null,
   "metadata": {},
   "outputs": [],
   "source": [
    "#Derivative of the integral of ER\n",
    "d_integral_ER=np.diff(integral_ER)/dt\n",
    "\n",
    "#Plotting the derivative of the integral of ER\n",
    "plt.plot(d_integral_ER)\n",
    "plt.xlabel('Window number')\n",
    "plt.ylabel('d_integral_ER')\n",
    "plt.show()\n"
   ]
  },
  {
   "cell_type": "markdown",
   "metadata": {},
   "source": [
    "Since the derivative is almost equal to the original signal, the transformation is not giving us any sense of new information "
   ]
  },
  {
   "cell_type": "code",
   "execution_count": null,
   "metadata": {},
   "outputs": [],
   "source": [
    "#Second derivative of ER from d_Un\n",
    "d2U_n=np.diff(dU_n)/dt\n",
    "\n",
    "#Plotting the second derivative of ER\n",
    "plt.plot(d2U_n)\n",
    "plt.xlabel('Window number')\n",
    "plt.ylabel('d2U_n')\n",
    "plt.show()\n"
   ]
  },
  {
   "cell_type": "code",
   "execution_count": null,
   "metadata": {},
   "outputs": [],
   "source": [
    "#Thrid derivative of ER from d2_Un\n",
    "d3U_n=np.diff(d2U_n)/dt\n",
    "\n",
    "#Sign of the third derivative of ER\n",
    "sign_d3U_n=np.sign(d3U_n)\n",
    "\n",
    "\n",
    "#Plotting the third derivative of ER\n",
    "plt.plot(d3U_n)\n",
    "plt.xlabel('Window number')\n",
    "plt.ylabel('d3U_n')\n",
    "plt.show()\n",
    "\n",
    "#Plotting the sign of the third derivative of ER\n",
    "plt.plot(sign_d3U_n)\n",
    "plt.xlabel('Window number')\n",
    "plt.ylabel('sign(d3U_n)')\n",
    "plt.show()"
   ]
  },
  {
   "cell_type": "code",
   "execution_count": null,
   "metadata": {},
   "outputs": [],
   "source": [
    "#plotting original signal and the third derivative of the signal both normalized\n",
    "plt.plot(ER)\n",
    "plt.plot(d3U_n)\n",
    "plt.xlabel('Window number')\n",
    "plt.ylabel('ER and d3U_n')\n",
    "plt.legend(['ER','d3U_n'])\n",
    "plt.show()\n"
   ]
  },
  {
   "cell_type": "code",
   "execution_count": null,
   "metadata": {},
   "outputs": [],
   "source": [
    "#ploting original signal \n",
    "plt.plot(data)\n",
    "plt.xlabel('Window number')\n",
    "plt.ylabel('Signal')\n",
    "plt.show()"
   ]
  },
  {
   "cell_type": "code",
   "execution_count": null,
   "metadata": {},
   "outputs": [],
   "source": [
    "#The alarm time is the biggest value in the third derivative of the signal\n",
    "alarm_time=np.argmax(d3U_n)\n",
    "print('The alarm time is at window number ',alarm_time)"
   ]
  },
  {
   "cell_type": "markdown",
   "metadata": {},
   "source": [
    "### Basic Approach"
   ]
  },
  {
   "cell_type": "code",
   "execution_count": null,
   "metadata": {},
   "outputs": [],
   "source": [
    "U_n=np.zeros(len(ER))\n",
    "v=0.1\n",
    "u_min=0\n",
    "#lambda_=108867\n",
    "lambda_=500\n",
    "alarm_times=[]\n",
    "for i in range(N):\n",
    "    U_n[i]=np.sum(ER[0:i]-ER_n-0.1)\n",
    "    u_min=np.min(U_n)\n",
    "    if (U_n[i]-u_min)>lambda_:\n",
    "        #print('Anomaly detected at window number ',i)\n",
    "        alarm_times.append(i)\n",
    "        u_min=0\n",
    "        U_n[i]=0\n",
    "#Putting a figure more larger in the x axis\n",
    "plt.figure(figsize=(20,10))\n",
    "plt.plot(U_n)\n",
    "plt.xlabel('Window number')\n",
    "plt.ylabel('U_n')\n",
    "plt.show()"
   ]
  },
  {
   "cell_type": "markdown",
   "metadata": {},
   "source": [
    "- Causalidad \n",
    "- Libro de Vhalery\n",
    "-\n",
    "- Grafos con las demás medidas de conectividad\n"
   ]
  },
  {
   "cell_type": "code",
   "execution_count": null,
   "metadata": {},
   "outputs": [],
   "source": [
    "#Making a zoom in the alarm times\n",
    "plt.figure(figsize=(20,10))\n",
    "plt.plot(U_n)\n",
    "plt.xlabel('Window number')\n",
    "plt.ylabel('U_n')\n",
    "plt.xlim([alarm_times[0]-10,alarm_times[0]+10])\n",
    "plt.show()\n"
   ]
  },
  {
   "cell_type": "code",
   "execution_count": null,
   "metadata": {},
   "outputs": [],
   "source": [
    "\n",
    "if len(alarm_times)==0:\n",
    "    print(\"No change points found\")\n",
    "else:\n",
    "    print(\"The change points are: \",alarm_times)\n",
    "    plt.plot(ER)\n",
    "    plt.xlabel('Window number')\n",
    "    plt.ylabel('U_n')\n",
    "    plt.plot(alarm_times[0],ER[alarm_times[0]],'ro')\n",
    "    plt.show()"
   ]
  },
  {
   "cell_type": "code",
   "execution_count": 20,
   "metadata": {},
   "outputs": [],
   "source": [
    "#Making a matrix of U_n, where the rows are every channel and the columns are the windows\n",
    "#Getting the channels\n",
    "channels = raw.ch_names\n",
    "#Getting the number of channels\n",
    "n_channels=len(channels)\n",
    "#Getting the number of windows\n",
    "n_windows=len(U_n)\n",
    "#Making a matrix of zeros\n",
    "U_n_matrix=np.zeros((n_channels,n_windows))\n",
    "ER_matrix=np.zeros((n_channels,n_windows))\n",
    "ER_n_array=np.zeros(n_channels)\n",
    "#Alarm time array\n",
    "alarm_time=np.zeros(n_channels)\n",
    "#Detection time array\n",
    "#detection_time=np.zeros(n_channels)\n",
    "#A loop for every channel\n",
    "for k in range(n_channels):\n",
    "    #Getting the data of the channel\n",
    "    data=raw.get_data()[k]\n",
    "    #Getting the ER values\n",
    "    time_points, ER_values = calculate_ER(data, window_size, overlap)\n",
    "    ER=ER_values\n",
    "    #Normalizing between 0 and 1\n",
    "    ER=(ER-np.min(ER))/(np.max(ER)-np.min(ER))\n",
    "    ER_matrix[k,:]=ER\n",
    "    N=len(ER)\n",
    "    ER_n=(1/N)*np.sum(ER)\n",
    "    #Getting the ER_n values in the \n",
    "    ER_n_array[k]=ER_n\n",
    "    ##Getting U_n\n",
    "    U_n=np.zeros(len(ER))\n",
    "    v=0.1\n",
    "    u_min=0\n",
    "    #lambda_=108867\n",
    "    lambda_=125\n",
    "    alarm_times=[]\n",
    "    for i in range(N):\n",
    "        U_n[i]=np.sum(ER[0:i]-ER_n-0.1)\n",
    "        u_min=np.min(U_n)\n",
    "        if (U_n[i]-u_min)>lambda_:\n",
    "            #print('Anomaly detected at window number ',i, ' for channel ',k)    \n",
    "            alarm_times.append(i)\n",
    "            u_min=0\n",
    "            U_n[i]=0\n",
    "    #Saving the U_n values in the matrix\n",
    "    U_n_matrix[k,:]=U_n\n",
    "    #Getting the alarm time\n",
    "    alarm_time[k]=alarm_times[0]\n",
    "    "
   ]
  },
  {
   "cell_type": "code",
   "execution_count": 22,
   "metadata": {},
   "outputs": [],
   "source": [
    "#Getting EI\n",
    "N0=np.min(alarm_time)\n",
    "Ei=[]\n",
    "tau=1\n",
    "#H variable is equal to 5 seconds, so \n",
    "H=5*fs\n",
    "#sum from detection time to the end of the signal\n",
    "for k in range(n_channels):\n",
    "    Ei.append(((1/(alarm_time[k]-N0+tau))*np.sum(ER_matrix[k,int(alarm_time[k]):int(alarm_time[k]+H)])))\n",
    "                                                 "
   ]
  },
  {
   "cell_type": "code",
   "execution_count": null,
   "metadata": {},
   "outputs": [],
   "source": [
    "Ei"
   ]
  },
  {
   "cell_type": "code",
   "execution_count": null,
   "metadata": {},
   "outputs": [],
   "source": [
    "#Ploting the ER values for every channel\n",
    "for k in range(n_channels):\n",
    "    plt.plot(ER_matrix[k,:])\n",
    "    plt.xlabel('Window number')\n",
    "    plt.ylabel('ER')\n",
    "    plt.show()"
   ]
  },
  {
   "cell_type": "code",
   "execution_count": null,
   "metadata": {},
   "outputs": [],
   "source": [
    "#Plotting the U_n values for every in a heatmap with an x axis of the window number and a y axis of the channel name with imshow variable \"channels\" as the labels\n",
    "plt.imshow(ER_matrix,cmap='viridis',interpolation='bicubic',aspect='auto',extent=[0,40000,0,22])\n",
    "#colorbar\n",
    "plt.colorbar()\n",
    "plt.yticks(np.arange(len(channels)), channels)\n",
    "plt.xlabel('Window number')\n",
    "plt.ylabel('Channel name')\n",
    "plt.title('ER_n')\n",
    "plt.show()"
   ]
  },
  {
   "cell_type": "code",
   "execution_count": null,
   "metadata": {},
   "outputs": [],
   "source": [
    "#Ploting the EI values for every channel\n",
    "#Divide by max value to normalize between 0 and 1\n",
    "Ei_n=Ei/np.max(Ei)\n",
    "plt.plot(Ei_n)\n",
    "plt.xlabel('Channel number')\n",
    "plt.ylabel('EI')\n",
    "plt.show()\n"
   ]
  },
  {
   "cell_type": "code",
   "execution_count": null,
   "metadata": {},
   "outputs": [],
   "source": [
    "#Plting a barplt of the EI values for every channel\n",
    "plt.bar(channels,Ei)\n",
    "plt.xlabel('Channel name')\n",
    "plt.ylabel('EI')\n",
    "plt.show()"
   ]
  }
 ],
 "metadata": {
  "kernelspec": {
   "display_name": "base",
   "language": "python",
   "name": "python3"
  },
  "language_info": {
   "codemirror_mode": {
    "name": "ipython",
    "version": 3
   },
   "file_extension": ".py",
   "mimetype": "text/x-python",
   "name": "python",
   "nbconvert_exporter": "python",
   "pygments_lexer": "ipython3",
   "version": "3.10.12"
  }
 },
 "nbformat": 4,
 "nbformat_minor": 2
}
