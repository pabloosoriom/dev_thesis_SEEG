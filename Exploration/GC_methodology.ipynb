{
 "cells": [
  {
   "cell_type": "code",
   "execution_count": 1,
   "metadata": {},
   "outputs": [],
   "source": [
    "import mne\n",
    "import numpy as np\n",
    "import matplotlib.pyplot as plt\n",
    "from sklearn.metrics import pairwise_distances\n",
    "from nltools.data import Brain_Data, Design_Matrix, Adjacency\n",
    "import networkx as nx\n",
    "from scipy import signal\n",
    "from mne_connectivity import spectral_connectivity_epochs\n",
    "import seaborn as sns\n",
    "import pandas as pd\n"
   ]
  },
  {
   "cell_type": "code",
   "execution_count": null,
   "metadata": {},
   "outputs": [],
   "source": [
    "raw=mne.io.read_raw_fif('/home/pablo/works/dev_thesis_SEEG/data/pte_6_cleaned.fif', preload=True)"
   ]
  },
  {
   "cell_type": "code",
   "execution_count": 3,
   "metadata": {},
   "outputs": [],
   "source": [
    "data=raw.get_data()\n",
    "channels=raw.ch_names"
   ]
  },
  {
   "cell_type": "code",
   "execution_count": null,
   "metadata": {},
   "outputs": [],
   "source": [
    "raw.plot_psd(fmax=50, average=True, spatial_colors=False)\n",
    "plt.show()"
   ]
  },
  {
   "cell_type": "code",
   "execution_count": null,
   "metadata": {},
   "outputs": [],
   "source": [
    "# Example usage:\n",
    "# # Load your raw data\n",
    "# raw = mne.io.read_raw_fif('your_raw_data.fif', preload=True)\n",
    "\n",
    "# # Define events and epochs\n",
    "# events = mne.find_events(raw)\n",
    "# event_id = {'event_name': 1}  # Modify according to your event\n",
    "# epochs = mne.Epochs(raw, events, event_id, tmin=-0.2, tmax=0.5, baseline=(None, 0), preload=True)"
   ]
  },
  {
   "cell_type": "code",
   "execution_count": 50,
   "metadata": {},
   "outputs": [],
   "source": [
    "#BAnds of interest\n",
    "bands = {'theta':(3.5, 7.5),\n",
    "         'alpha': (7.5, 13),\n",
    "         'beta': (13, 30),\n",
    "         'gamma': (30, 45)}"
   ]
  },
  {
   "cell_type": "code",
   "execution_count": null,
   "metadata": {},
   "outputs": [],
   "source": [
    "epochs=mne.make_fixed_length_epochs(raw, duration=120, preload=True)\n",
    "epochs.plot_image(picks=['OF1'],cmap='RdBu_r')\n",
    "\n",
    "# Group channels based on their prefixes\n",
    "channel_groups = {}\n",
    "for idx, channel in enumerate(epochs.info['ch_names']):\n",
    "  prefix = ''.join(filter(str.isalpha, channel))\n",
    "  if prefix in channel_groups:\n",
    "    channel_groups[prefix].append(idx)\n",
    "  else:\n",
    "    channel_groups[prefix] = [idx]\n",
    "\n",
    "for prefix, channels in channel_groups.items():\n",
    "    print(f'{prefix}: {channels}')"
   ]
  },
  {
   "cell_type": "code",
   "execution_count": 6,
   "metadata": {},
   "outputs": [],
   "source": [
    "#Lets calculate the GC for each band\n",
    "#Lets begin with theta and let A and B be CC and CA\n",
    "#A=channel_groups['CC']\n",
    "#B=channel_groups['CA']\n",
    "#gc_ab,gc_ba,freqs=calculate_and_plot_granger_causality(epochs, A, B,  fmin=bands['theta'][0], fmax=bands['theta'][1])"
   ]
  },
  {
   "cell_type": "code",
   "execution_count": 7,
   "metadata": {},
   "outputs": [],
   "source": [
    "#Now, we are going to calculate the cum sum of the values under the y=0 line and over the y=0 line. \n",
    "#When a value is over the y=0 line, it means that the channel in A is causing the channel in B\n",
    "#When a value is under the y=0 line, it means that the channel in B is causing the channel in A\n",
    "#res=gc_ab.get_data()[0]-gc_ba.get_data()[0]\n",
    "#A1=0\n",
    "#A2=0\n",
    "#for i in range(len(res)):\n",
    "#    if res[i]>0:\n",
    "#        A1+=res[i]\n",
    "#    else:\n",
    "#        A2+=res[i]\n",
    "#print(f'The sum of the values over the y=0 line is {A1}')\n",
    "#print(f'The sum of the values under the y=0 line is {A2}')\n",
    "        "
   ]
  },
  {
   "cell_type": "code",
   "execution_count": null,
   "metadata": {},
   "outputs": [],
   "source": [
    "\n",
    "def calculate_and_plot_granger_causality(epochs, signals_a, signals_b,verbose=True, fmin=5, fmax=30, gc_n_lags=20,plot=True):\n",
    "    indices_ab = (np.array([signals_a]), np.array([signals_b]))  # A => B\n",
    "    indices_ba = (np.array([signals_b]), np.array([signals_a]))  # B => A\n",
    "\n",
    "\n",
    "    gc_ab = spectral_connectivity_epochs(\n",
    "        epochs,\n",
    "        method=[\"gc\"],\n",
    "        indices=indices_ab,\n",
    "        fmin=fmin,\n",
    "        fmax=fmax,\n",
    "        rank=(np.array([5]), np.array([5])),\n",
    "        gc_n_lags=gc_n_lags,\n",
    "        verbose=verbose,\n",
    "    )  # A => B\n",
    "\n",
    "    gc_ba = spectral_connectivity_epochs(\n",
    "        epochs,\n",
    "        method=[\"gc\"],\n",
    "        indices=indices_ba,\n",
    "        fmin=fmin,\n",
    "        fmax=fmax,\n",
    "        rank=(np.array([5]), np.array([5])),\n",
    "        gc_n_lags=gc_n_lags,\n",
    "        verbose=verbose,\n",
    "        )  # B => A\n",
    "\n",
    "    freqs = gc_ab.freqs\n",
    "\n",
    "    # Plot GC: [A => B]\n",
    "    if plot == True:\n",
    "        fig, axis = plt.subplots(1, 1)\n",
    "        axis.plot(freqs, gc_ab.get_data()[0], linewidth=2, label='A => B')\n",
    "        axis.set_xlabel(\"Frequency (Hz)\")\n",
    "        axis.set_ylabel(\"Connectivity (A.U.)\")\n",
    "        fig.suptitle(\"GC: [A => B] and [B => A]\")\n",
    "\n",
    "        # Plot GC: [B => A]\n",
    "        axis.plot(freqs, gc_ba.get_data()[0], linewidth=2, label='B => A')\n",
    "        axis.legend()\n",
    "        plt.show()\n",
    "\n",
    "        # Plot Net GC: [A => B] - [B => A]\n",
    "        net_gc = gc_ab.get_data() - gc_ba.get_data()  # [A => B] - [B => A]\n",
    "        fig, axis = plt.subplots(1, 1)\n",
    "        axis.plot((freqs[0], freqs[-1]), (0, 0), linewidth=2, linestyle=\"--\", color=\"k\")\n",
    "        axis.plot(freqs, net_gc[0], linewidth=2)\n",
    "        axis.set_xlabel(\"Frequency (Hz)\")\n",
    "        axis.set_ylabel(\"Connectivity (A.U.)\")\n",
    "        fig.suptitle(\"Net GC: [A => B] - [B => A]\")\n",
    "        plt.show()\n",
    "\n",
    "    return gc_ab, gc_ba, freqs\n"
   ]
  },
  {
   "cell_type": "code",
   "execution_count": 8,
   "metadata": {},
   "outputs": [],
   "source": [
    "#MAke a function to calculate the area of two set of channels in a band\n",
    "def calculate_Area(A,B,epochs,band):\n",
    "    gc_ab,gc_ba,freqs=calculate_and_plot_granger_causality(epochs, A, B,  fmin=band[0], fmax=band[1],verbose=False,plot=False)\n",
    "    res=gc_ab.get_data()[0]-gc_ba.get_data()[0]\n",
    "    A1=0\n",
    "    A2=0\n",
    "    for i in range(len(res)):\n",
    "        if res[i]>0:\n",
    "            A1+=res[i]\n",
    "        else:\n",
    "            A2+=res[i]\n",
    "    return A1,A2"
   ]
  },
  {
   "cell_type": "code",
   "execution_count": null,
   "metadata": {},
   "outputs": [],
   "source": [
    "#Lets calculate the area for all the bands and put them in a matrix. The matrix has the shape of the number of prefixes\n",
    "#by the number of prefixes\n",
    "matrix=np.zeros((len(channel_groups.keys()),len(channel_groups.keys()),4))\n",
    "\n",
    "for i,band in enumerate(bands.keys()):\n",
    "    for j,prefix1 in enumerate(channel_groups.keys()):\n",
    "        for k,prefix2 in enumerate(channel_groups.keys()):\n",
    "            if j==k:\n",
    "                matrix[j,k,i]=0\n",
    "                continue\n",
    "            A=channel_groups[prefix1]\n",
    "            B=channel_groups[prefix2]\n",
    "            A1,A2=calculate_Area(A,B,epochs,bands[band])\n",
    "            matrix[j,k,i]=A1\n",
    "            matrix[k,j,i]=A2\n",
    "            print(f'The area of {prefix1} causing {prefix2} in band {band} is {A1}')\n",
    "\n",
    "\n",
    "#Now we are going to plot the matrix\n",
    "fig, axs = plt.subplots(2, 2, figsize=(10, 10))\n",
    "fig.suptitle('Granger Causality Area')\n",
    "for i,band in enumerate(bands.keys()):\n",
    "    sns.heatmap(matrix[:,:,i], ax=axs[i//2,i%2], xticklabels=channel_groups.keys(), yticklabels=channel_groups.keys(), cmap='coolwarm')\n",
    "    axs[i//2,i%2].set_title(band)\n",
    "plt.show()\n"
   ]
  },
  {
   "cell_type": "code",
   "execution_count": 15,
   "metadata": {},
   "outputs": [],
   "source": [
    "#Save the matrix in a csv file\n",
    "np.savetxt('GC_Area_theta.csv', matrix[:,:,0], delimiter=',')\n",
    "np.savetxt('GC_Area_alpha.csv', matrix[:,:,1], delimiter=',')\n",
    "np.savetxt('GC_Area_beta.csv', matrix[:,:,2], delimiter=',')\n",
    "np.savetxt('GC_Area_gamma.csv', matrix[:,:,3], delimiter=',')\n"
   ]
  },
  {
   "cell_type": "code",
   "execution_count": 5,
   "metadata": {},
   "outputs": [],
   "source": [
    "matrix_theta=np.loadtxt('/teamspace/studios/this_studio/GC_Area_alpha.csv', delimiter=',')\n",
    "matrix_alpha=np.loadtxt('/teamspace/studios/this_studio/GC_Area_alpha.csv', delimiter=',')\n",
    "matrix_beta=np.loadtxt('/teamspace/studios/this_studio/GC_Area_beta.csv', delimiter=',')\n",
    "matrix_gamma=np.loadtxt('/teamspace/studios/this_studio/GC_Area_gamma.csv', delimiter=',')"
   ]
  },
  {
   "cell_type": "code",
   "execution_count": null,
   "metadata": {},
   "outputs": [],
   "source": [
    "node_names=list(channel_groups.keys())\n",
    "\n",
    "# Convert numpy matrix to a NetworkX graph\n",
    "G = nx.DiGraph(matrix_theta)\n",
    "\n",
    "# Normalize edge weights\n",
    "edge_weights = np.array([G[u][v]['weight'] for u,v in G.edges()])\n",
    "max_weight = np.max(edge_weights)\n",
    "min_weight = np.min(edge_weights)\n",
    "normalized_weights = (edge_weights - min_weight) / (max_weight - min_weight)\n",
    "\n",
    "# Draw the graph with improved layout\n",
    "pos = nx.circular_layout(G)  # Positions for all nodes\n",
    "\n",
    "# Draw nodes\n",
    "nx.draw_networkx_nodes(G, pos, node_size=700)\n",
    "\n",
    "# Draw edges with normalized thickness\n",
    "edge_labels = nx.get_edge_attributes(G, 'weight')\n",
    "nx.draw_networkx_edges(G, pos, arrows=True, width=normalized_weights)\n",
    "\n",
    "\n",
    "\n",
    "# Draw labels\n",
    "node_labels = {i: node_names[i] for i in range(len(node_names))}\n",
    "nx.draw_networkx_labels(G, pos, labels=node_labels)\n",
    "\n",
    "\n",
    "# Display the graph\n",
    "plt.title(\"Directed Graph with Node Labels\")\n",
    "plt.axis(\"off\")\n",
    "plt.show()\n"
   ]
  },
  {
   "cell_type": "code",
   "execution_count": null,
   "metadata": {},
   "outputs": [],
   "source": [
    "#Mak3 the sum over every row, and plot a bar plot only for theta\n",
    "sums=np.sum(matrix_theta,axis=0)\n",
    "plt.bar(channel_groups.keys(),sums)\n",
    "plt.show()\n",
    "\n",
    "#Interpreta"
   ]
  },
  {
   "cell_type": "code",
   "execution_count": null,
   "metadata": {},
   "outputs": [],
   "source": [
    "#Mak3 the sum over every row, and plot a bar plot\n",
    "sums=np.sum(matrix, axis=1)\n",
    "fig, axs = plt.subplots(2, 2, figsize=(10, 10))\n",
    "fig.suptitle('Granger Causality Area Sum')\n",
    "for i,band in enumerate(bands.keys()):\n",
    "    axs[i//2,i%2].bar(channel_groups.keys(),sums[:,i])\n",
    "    axs[i//2,i%2].set_title(band)\n",
    "plt.show()"
   ]
  }
 ],
 "metadata": {
  "kernelspec": {
   "display_name": "environment_connectivity",
   "language": "python",
   "name": "python3"
  },
  "language_info": {
   "codemirror_mode": {
    "name": "ipython",
    "version": 3
   },
   "file_extension": ".py",
   "mimetype": "text/x-python",
   "name": "python",
   "nbconvert_exporter": "python",
   "pygments_lexer": "ipython3",
   "version": "3.11.9"
  }
 },
 "nbformat": 4,
 "nbformat_minor": 2
}
