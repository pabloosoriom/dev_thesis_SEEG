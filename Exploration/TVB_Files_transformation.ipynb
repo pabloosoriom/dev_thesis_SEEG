{
 "cells": [
  {
   "cell_type": "code",
   "execution_count": null,
   "metadata": {},
   "outputs": [],
   "source": [
    "import h5py\n",
    "\n",
    "# Path to your TVB .h5 file\n",
    "file_path = '/home/pablo/works/dev_thesis_SEEG/data/pte_01_TVB/Sensors_568ffb7358f84a0eb4e9ea3ff9a4568b.h5'\n",
    "\n",
    "# Open the file in read mode\n",
    "with h5py.File(file_path, 'r') as h5_file:\n",
    "    # Explore the structure of the file\n",
    "    print(\"File structure:\")\n",
    "    def print_structure(name, obj):\n",
    "        if isinstance(obj, h5py.Group):\n",
    "            print(f\"Group: {name}\")\n",
    "        elif isinstance(obj, h5py.Dataset):\n",
    "            print(f\"Dataset: {name} - Shape: {obj.shape}, Dtype: {obj.dtype}\")\n",
    "    h5_file.visititems(print_structure)\n"
   ]
  },
  {
   "cell_type": "code",
   "execution_count": 5,
   "metadata": {},
   "outputs": [],
   "source": [
    "# Example: Extract specific dataset\n",
    "if 'time_series' in h5_file:\n",
    "    time_series = h5_file['time_series'][:]  # Load the dataset\n",
    "    print(\"Time series shape:\", time_series.shape)\n"
   ]
  },
  {
   "cell_type": "code",
   "execution_count": null,
   "metadata": {},
   "outputs": [],
   "source": [
    "# Open the file in read mode\n",
    "with h5py.File(file_path, 'r') as h5_file:\n",
    "    # Load the datasets\n",
    "    data = h5_file['data'][:]  # Shape: (6000, 2, 588, 1)\n",
    "    time = h5_file['time'][:]  # Shape: (6000,)\n",
    "    \n",
    "    # Print basic info\n",
    "    print(\"Data shape:\", data.shape)\n",
    "    print(\"Time shape:\", time.shape)\n",
    "\n",
    "    # Example: Accessing the first time point\n",
    "    first_time_point = data[0, :, :, 0]\n",
    "    print(\"First time point shape:\", first_time_point.shape)\n",
    "\n",
    "    # Example: Verify time consistency\n",
    "    print(\"Time range:\", time[0], \"to\", time[-1])"
   ]
  },
  {
   "cell_type": "code",
   "execution_count": null,
   "metadata": {},
   "outputs": [],
   "source": [
    "import matplotlib.pyplot as plt\n",
    "\n",
    "# Select a specific region (e.g., region 0)\n",
    "region_index = 0\n",
    "variable_index = 1 # First signal variable\n",
    "\n",
    "# Extract signal for the selected region and variable\n",
    "signal = data[:, variable_index, region_index, 0]\n",
    "\n",
    "# Plot the signal over time\n",
    "plt.figure(figsize=(10, 6))\n",
    "plt.plot(time, signal, label=f'Region {region_index}, Variable {variable_index}')\n",
    "plt.title('Time Series Signal for Region 0')\n",
    "plt.xlabel('Time')\n",
    "plt.ylabel('Signal Amplitude')\n",
    "plt.legend()\n",
    "plt.grid()\n",
    "plt.show()\n"
   ]
  }
 ],
 "metadata": {
  "kernelspec": {
   "display_name": "Epilep",
   "language": "python",
   "name": "python3"
  },
  "language_info": {
   "codemirror_mode": {
    "name": "ipython",
    "version": 3
   },
   "file_extension": ".py",
   "mimetype": "text/x-python",
   "name": "python",
   "nbconvert_exporter": "python",
   "pygments_lexer": "ipython3",
   "version": "3.11.6"
  }
 },
 "nbformat": 4,
 "nbformat_minor": 2
}
